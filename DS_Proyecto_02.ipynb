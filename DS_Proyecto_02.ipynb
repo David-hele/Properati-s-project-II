{
  "nbformat": 4,
  "nbformat_minor": 0,
  "metadata": {
    "colab": {
      "name": "DS_Proyecto_02.ipynb",
      "provenance": [],
      "collapsed_sections": []
    },
    "kernelspec": {
      "display_name": "Python 3",
      "name": "python3"
    },
    "language_info": {
      "name": "python"
    }
  },
  "cells": [
    {
      "cell_type": "markdown",
      "metadata": {
        "id": "O3476BRVGU6a"
      },
      "source": [
        "# ***Proyecto 02: Ingeniería de features, Modelos avanzados e Interpretación de modelos***"
      ]
    },
    {
      "cell_type": "markdown",
      "metadata": {
        "id": "qXSzuhLiNIam"
      },
      "source": [
        "# **Resumen del proyecto**"
      ]
    },
    {
      "cell_type": "markdown",
      "metadata": {
        "id": "E_bKTk73NOLT"
      },
      "source": [
        "Aplica ingeniería de Features y Modelos Avanzados para desarrollar con mayor profundidad tu modelo de Machine Learning."
      ]
    },
    {
      "cell_type": "markdown",
      "metadata": {
        "id": "S9zpyh15Nc5m"
      },
      "source": [
        "# **Consigna**"
      ]
    },
    {
      "cell_type": "markdown",
      "metadata": {
        "id": "51G8cbccNnzZ"
      },
      "source": [
        "En este proyecto profundizarás lo desarrollado en el proyecto 01 (“Primer modelo de Machine Learning”). El objetivo es aplicar las técnicas incorporadas (Transformación de Datos, Optimización de Hiperparámetros, Modelos Avanzados, etc.) para generar un modelo que tenga un mejor desempeño que el modelo generado en el proyecto anterior. Luego, interpreta ese modelo para responder la siguiente pregunta: ¿qué podemos aprender de nuestro problema estudiando el modelo que generamos?"
      ]
    },
    {
      "cell_type": "markdown",
      "metadata": {
        "id": "cIxpckXmN6SG"
      },
      "source": [
        "# **PARTE A - Transformación de Datos**"
      ]
    },
    {
      "cell_type": "markdown",
      "metadata": {
        "id": "WKZmeZk6N2mj"
      },
      "source": [
        "Elige cuáles de las siguientes tareas son apropiadas para su dataset. Implementa las transformaciones que elegiste. Es importante que justifiques por qué las haces:\n",
        "\n",
        "1 - Detección y eliminación de Outliers\n",
        "\n",
        "\n",
        "\n",
        "\n",
        "2 - Encoding\n",
        "\n",
        "\n",
        "\n",
        "\n",
        "3 - Imputación de valores faltantes\n",
        "\n",
        "\n",
        "\n",
        "\n",
        "4 - Escalado de datos\n",
        "\n",
        "\n",
        "\n",
        "\n",
        "5 - Generación de nuevas variables predictoras/reducción de dimensionalidad (SVD/PCA).\n",
        "\n",
        "\n",
        "\n",
        "\n",
        "Vuelve a entrenar el modelo implementado en la Entrega 01 - en particular, el árbol de decisión - con este nuevo dataset transformado. Evalúa su desempeño a partir del dataset obtenido luego de transformar los datos. ¿Hay una mejora en su desempeño? Compara con el desempeño obtenido en el proyecto 01. Sea cual sea la respuesta, intenta explicar a qué se debe."
      ]
    },
    {
      "cell_type": "markdown",
      "metadata": {
        "id": "LpgdgYtoH8s_"
      },
      "source": [
        "# **Inicio**"
      ]
    },
    {
      "cell_type": "markdown",
      "metadata": {
        "id": "kLYmWUYBIOg1"
      },
      "source": [
        "Importamos todas las librerías con las que vamos a trabajar durante el proyecto"
      ]
    },
    {
      "cell_type": "code",
      "metadata": {
        "id": "Y_hj_kqtVXxh"
      },
      "source": [
        "import numpy as np\n",
        "import pandas as pd\n",
        "import matplotlib.pyplot as plt\n",
        "import seaborn as sns\n",
        "import xgboost as xgb\n",
        "\n",
        "from numpy import nan as NA\n",
        "\n",
        "from sklearn.tree import DecisionTreeRegressor\n",
        "\n",
        "from sklearn.neighbors import KNeighborsRegressor\n",
        "\n",
        "from sklearn.metrics import accuracy_score\n",
        "from sklearn.metrics import mean_squared_error, r2_score\n",
        "from sklearn.metrics import mean_absolute_error\n",
        "\n",
        "from sklearn.preprocessing import PolynomialFeatures\n",
        "from sklearn.preprocessing import StandardScaler\n",
        "from sklearn.preprocessing import LabelEncoder\n",
        "from sklearn.preprocessing import OneHotEncoder\n",
        "\n",
        "from sklearn.linear_model import LinearRegression\n",
        "from sklearn.linear_model import Ridge, Lasso\n",
        "\n",
        "from sklearn.model_selection import RandomizedSearchCV\n",
        "from sklearn.model_selection import learning_curve\n",
        "from sklearn.model_selection import validation_curve\n",
        "from sklearn.model_selection import cross_val_score\n",
        "from sklearn.model_selection import cross_validate\n",
        "from sklearn.model_selection import train_test_split"
      ],
      "execution_count": null,
      "outputs": []
    },
    {
      "cell_type": "markdown",
      "metadata": {
        "id": "yRAjtc6DIoen"
      },
      "source": [
        "Cargamos el dataset "
      ]
    },
    {
      "cell_type": "code",
      "metadata": {
        "colab": {
          "base_uri": "https://localhost:8080/"
        },
        "id": "WZPfgEo0YPv6",
        "outputId": "45f564d7-54e2-453b-c611-dcc91ba95603"
      },
      "source": [
        "from google.colab import drive \n",
        "drive.mount('/content/gdrive')"
      ],
      "execution_count": null,
      "outputs": [
        {
          "output_type": "stream",
          "text": [
            "Mounted at /content/gdrive\n"
          ],
          "name": "stdout"
        }
      ]
    },
    {
      "cell_type": "code",
      "metadata": {
        "id": "hx2E3l1RYSSp"
      },
      "source": [
        "data= pd.read_csv(\"/content/gdrive/MyDrive/Colab Notebooks/DS_Proyecto_01_Datos_Properati.csv\")"
      ],
      "execution_count": null,
      "outputs": []
    },
    {
      "cell_type": "markdown",
      "metadata": {
        "id": "H1-zlFMeJzE1"
      },
      "source": [
        "Reviso el tamaño que contiene el dataset "
      ]
    },
    {
      "cell_type": "code",
      "metadata": {
        "colab": {
          "base_uri": "https://localhost:8080/"
        },
        "id": "dK3c3IdgYTx4",
        "outputId": "861d9698-e1cf-4b1a-c633-caaae70183fd"
      },
      "source": [
        "nro_columnas = data.shape[1]\n",
        "nro_filas = data.shape[0]\n",
        "\n",
        "print('El dataset tiene un total de {} columnas y {} instancias'.format(nro_columnas, nro_filas))"
      ],
      "execution_count": null,
      "outputs": [
        {
          "output_type": "stream",
          "text": [
            "El dataset tiene un total de 19 columnas y 146660 instancias\n"
          ],
          "name": "stdout"
        }
      ]
    },
    {
      "cell_type": "markdown",
      "metadata": {
        "id": "sy9LZ32oKD3W"
      },
      "source": [
        "Voy a mantener los filtros realizados en el proyecto 1, para tener la misma base de trabajo y después poder comparar el rendimiento del modelo con el\n",
        "preprocesamiento realizado. Descarté la columna 'surface_covered' dada su alta correlación con surface total, con ésta última variable nos es suficiente\n",
        "para trabajar. "
      ]
    },
    {
      "cell_type": "code",
      "metadata": {
        "colab": {
          "base_uri": "https://localhost:8080/"
        },
        "id": "gjrOwot8YWg1",
        "outputId": "c579e44e-37a6-4f7b-9f31-5eaadebdeaf1"
      },
      "source": [
        "filtro_a= data[(data.property_type.isin(['Casa','Departamento','PH']))&(data.l2=='Capital Federal')]\n",
        "filtro_data=filtro_a[['property_type','rooms','bedrooms','bathrooms','surface_total','surface_covered','price']]\n",
        "#filtro_data.shape\n",
        "print(f'Contamos con { filtro_data.shape[0] } registros y { filtro_data.shape[1] } columnas.')"
      ],
      "execution_count": null,
      "outputs": [
        {
          "output_type": "stream",
          "text": [
            "Contamos con 91485 registros y 7 columnas.\n"
          ],
          "name": "stdout"
        }
      ]
    },
    {
      "cell_type": "markdown",
      "metadata": {
        "id": "JPb5-paVUUtB"
      },
      "source": [
        "Hago un filtrado para eliminar las propiedades que tienen surface_covered mayor al surface_total y las que poseen más bedrooms que rooms. Dado que es información inconsistente"
      ]
    },
    {
      "cell_type": "code",
      "metadata": {
        "colab": {
          "base_uri": "https://localhost:8080/"
        },
        "id": "h39XML-GYbbJ",
        "outputId": "a217985c-1914-4279-8236-76fb5d22611d"
      },
      "source": [
        "filtro_data.drop(labels=filtro_data.loc[filtro_data.surface_covered>filtro_data.surface_total].index, inplace= True)\n",
        "filtro_data.drop(labels=filtro_data.loc[filtro_data.bedrooms>filtro_data.rooms].index, inplace= True)"
      ],
      "execution_count": null,
      "outputs": [
        {
          "output_type": "stream",
          "text": [
            "/usr/local/lib/python3.7/dist-packages/pandas/core/frame.py:4174: SettingWithCopyWarning: \n",
            "A value is trying to be set on a copy of a slice from a DataFrame\n",
            "\n",
            "See the caveats in the documentation: https://pandas.pydata.org/pandas-docs/stable/user_guide/indexing.html#returning-a-view-versus-a-copy\n",
            "  errors=errors,\n",
            "/usr/local/lib/python3.7/dist-packages/pandas/core/frame.py:4174: SettingWithCopyWarning: \n",
            "A value is trying to be set on a copy of a slice from a DataFrame\n",
            "\n",
            "See the caveats in the documentation: https://pandas.pydata.org/pandas-docs/stable/user_guide/indexing.html#returning-a-view-versus-a-copy\n",
            "  errors=errors,\n"
          ],
          "name": "stderr"
        }
      ]
    },
    {
      "cell_type": "markdown",
      "metadata": {
        "id": "zjvE8fAkUjra"
      },
      "source": [
        "Con un shape verificamos que la porción eliminada no es significativa en cantidad por lo que voy a avanzar con el proyecto excluyendo las instancias que cumplen esta condición."
      ]
    },
    {
      "cell_type": "code",
      "metadata": {
        "colab": {
          "base_uri": "https://localhost:8080/"
        },
        "id": "iUFR8FIMYfjI",
        "outputId": "5657f4b5-8746-43e3-a891-e5dc6bd32ee4"
      },
      "source": [
        "filtro_data.shape"
      ],
      "execution_count": null,
      "outputs": [
        {
          "output_type": "execute_result",
          "data": {
            "text/plain": [
              "(90663, 7)"
            ]
          },
          "metadata": {
            "tags": []
          },
          "execution_count": 7
        }
      ]
    },
    {
      "cell_type": "markdown",
      "metadata": {
        "id": "cpMFCL31W0r8"
      },
      "source": [
        "Voy a utilizar la clase OneHotEncoder para evitar que el modelo de machine learning interprete ordinalidad (0<1<2) en la codificación. "
      ]
    },
    {
      "cell_type": "code",
      "metadata": {
        "colab": {
          "base_uri": "https://localhost:8080/"
        },
        "id": "YryXfS2peC4d",
        "outputId": "3279f5be-c7fd-4222-cbfc-2d3b586b3cbc"
      },
      "source": [
        "tipo_propiedades= filtro_data['property_type']\n",
        "label_encoder = LabelEncoder()\n",
        "labels = label_encoder.fit_transform(filtro_data['property_type'])\n",
        "labels.shape"
      ],
      "execution_count": null,
      "outputs": [
        {
          "output_type": "execute_result",
          "data": {
            "text/plain": [
              "(90663,)"
            ]
          },
          "metadata": {
            "tags": []
          },
          "execution_count": 8
        }
      ]
    },
    {
      "cell_type": "code",
      "metadata": {
        "colab": {
          "base_uri": "https://localhost:8080/"
        },
        "id": "dxaPofXMeEv9",
        "outputId": "ee601ff6-a56b-4283-e5d3-022e61b3a2e7"
      },
      "source": [
        "one_hot_encoder = OneHotEncoder(sparse = False)\n",
        "encoding = one_hot_encoder.fit_transform(labels.reshape(-1,1))\n",
        "encoding.shape"
      ],
      "execution_count": null,
      "outputs": [
        {
          "output_type": "execute_result",
          "data": {
            "text/plain": [
              "(90663, 3)"
            ]
          },
          "metadata": {
            "tags": []
          },
          "execution_count": 9
        }
      ]
    },
    {
      "cell_type": "code",
      "metadata": {
        "colab": {
          "base_uri": "https://localhost:8080/",
          "height": 204
        },
        "id": "WsZWHMweeGat",
        "outputId": "cc9f4806-ed4e-446b-a7bb-4b0685b74a5c"
      },
      "source": [
        "columns = pd.DataFrame(encoding, columns=['Casa', 'PH', 'Departamento'])\n",
        "\n",
        "data= filtro_data.reset_index(drop=True)\n",
        "data= pd.concat([data,columns], axis=1)\n",
        "data['Casa']= data['Casa'].astype('int32')\n",
        "data['PH']= data['PH'].astype('int32')\n",
        "data['Departamento']= data['Departamento'].astype('int32')\n",
        "data.head()"
      ],
      "execution_count": null,
      "outputs": [
        {
          "output_type": "execute_result",
          "data": {
            "text/html": [
              "<div>\n",
              "<style scoped>\n",
              "    .dataframe tbody tr th:only-of-type {\n",
              "        vertical-align: middle;\n",
              "    }\n",
              "\n",
              "    .dataframe tbody tr th {\n",
              "        vertical-align: top;\n",
              "    }\n",
              "\n",
              "    .dataframe thead th {\n",
              "        text-align: right;\n",
              "    }\n",
              "</style>\n",
              "<table border=\"1\" class=\"dataframe\">\n",
              "  <thead>\n",
              "    <tr style=\"text-align: right;\">\n",
              "      <th></th>\n",
              "      <th>property_type</th>\n",
              "      <th>rooms</th>\n",
              "      <th>bedrooms</th>\n",
              "      <th>bathrooms</th>\n",
              "      <th>surface_total</th>\n",
              "      <th>surface_covered</th>\n",
              "      <th>price</th>\n",
              "      <th>Casa</th>\n",
              "      <th>PH</th>\n",
              "      <th>Departamento</th>\n",
              "    </tr>\n",
              "  </thead>\n",
              "  <tbody>\n",
              "    <tr>\n",
              "      <th>0</th>\n",
              "      <td>Departamento</td>\n",
              "      <td>7.0</td>\n",
              "      <td>7.0</td>\n",
              "      <td>2.0</td>\n",
              "      <td>140.0</td>\n",
              "      <td>140.0</td>\n",
              "      <td>153000.0</td>\n",
              "      <td>0</td>\n",
              "      <td>1</td>\n",
              "      <td>0</td>\n",
              "    </tr>\n",
              "    <tr>\n",
              "      <th>1</th>\n",
              "      <td>PH</td>\n",
              "      <td>2.0</td>\n",
              "      <td>1.0</td>\n",
              "      <td>2.0</td>\n",
              "      <td>70.0</td>\n",
              "      <td>58.0</td>\n",
              "      <td>159000.0</td>\n",
              "      <td>0</td>\n",
              "      <td>0</td>\n",
              "      <td>1</td>\n",
              "    </tr>\n",
              "    <tr>\n",
              "      <th>2</th>\n",
              "      <td>PH</td>\n",
              "      <td>2.0</td>\n",
              "      <td>1.0</td>\n",
              "      <td>1.0</td>\n",
              "      <td>45.0</td>\n",
              "      <td>45.0</td>\n",
              "      <td>125000.0</td>\n",
              "      <td>0</td>\n",
              "      <td>0</td>\n",
              "      <td>1</td>\n",
              "    </tr>\n",
              "    <tr>\n",
              "      <th>3</th>\n",
              "      <td>PH</td>\n",
              "      <td>2.0</td>\n",
              "      <td>1.0</td>\n",
              "      <td>1.0</td>\n",
              "      <td>85.0</td>\n",
              "      <td>50.0</td>\n",
              "      <td>295000.0</td>\n",
              "      <td>0</td>\n",
              "      <td>0</td>\n",
              "      <td>1</td>\n",
              "    </tr>\n",
              "    <tr>\n",
              "      <th>4</th>\n",
              "      <td>PH</td>\n",
              "      <td>2.0</td>\n",
              "      <td>1.0</td>\n",
              "      <td>1.0</td>\n",
              "      <td>56.0</td>\n",
              "      <td>56.0</td>\n",
              "      <td>150000.0</td>\n",
              "      <td>0</td>\n",
              "      <td>0</td>\n",
              "      <td>1</td>\n",
              "    </tr>\n",
              "  </tbody>\n",
              "</table>\n",
              "</div>"
            ],
            "text/plain": [
              "  property_type  rooms  bedrooms  bathrooms  ...     price  Casa  PH  Departamento\n",
              "0  Departamento    7.0       7.0        2.0  ...  153000.0     0   1             0\n",
              "1            PH    2.0       1.0        2.0  ...  159000.0     0   0             1\n",
              "2            PH    2.0       1.0        1.0  ...  125000.0     0   0             1\n",
              "3            PH    2.0       1.0        1.0  ...  295000.0     0   0             1\n",
              "4            PH    2.0       1.0        1.0  ...  150000.0     0   0             1\n",
              "\n",
              "[5 rows x 10 columns]"
            ]
          },
          "metadata": {
            "tags": []
          },
          "execution_count": 10
        }
      ]
    },
    {
      "cell_type": "markdown",
      "metadata": {
        "id": "ebByBT7hYSCj"
      },
      "source": [
        "***FUNCIÓN PARA GRAFICAR OUTLIERS***"
      ]
    },
    {
      "cell_type": "code",
      "metadata": {
        "id": "CC9vqwJNeKJz"
      },
      "source": [
        "def graficar_outliers(columna, data=data, bins=30):\n",
        "    fig, axs = plt.subplots(1, 2, figsize=(14,5))\n",
        "    # BOXPLOT\n",
        "    sns.boxplot(y=columna, data=data, color='Coral', fliersize=4, linewidth=2, saturation=1, ax=axs[0])    \n",
        "    axs[0].set_xlabel(f'{ columna.upper() }', fontsize=10, labelpad=10, weight='bold')\n",
        "    axs[0].set_ylabel(f'CANTIDAD', fontsize=10, labelpad=10, weight='bold')\n",
        "    axs[0].tick_params(axis='both', labelsize=15)\n",
        "    # DISTPLOT\n",
        "    sns.histplot(x=columna, data=data, bins=bins, color='Royalblue', stat='probability', ax=axs[1])\n",
        "    axs[1].set_xlabel(f'{ columna.upper() }', fontsize=10, labelpad=10, weight='bold')\n",
        "    axs[1].set_ylabel('PROBABILIDAD', fontsize=10, labelpad=10, weight='bold')    \n",
        "    axs[1].tick_params(axis='both', labelsize=15)\n",
        "\n",
        "    fig.suptitle(f'Estudio outliers: { columna }'.upper(), y=1, fontsize=15, fontweight='bold')\n",
        "    plt.show()"
      ],
      "execution_count": null,
      "outputs": []
    },
    {
      "cell_type": "code",
      "metadata": {
        "colab": {
          "base_uri": "https://localhost:8080/",
          "height": 1000
        },
        "id": "U-nEfJ2PeMiG",
        "outputId": "49bb6ea2-9b13-46b1-8ce9-e5397384948b"
      },
      "source": [
        "data_out = data.query('rooms <= 10')\n",
        "graficar_outliers('rooms', data_out, np.arange(10)-0.5)\n",
        "\n",
        "data_out = data.query('bathrooms <= 5')\n",
        "graficar_outliers('bathrooms', data_out, np.arange(10)-0.5)\n",
        "\n",
        "data_out = data.query('bedrooms <= 10')\n",
        "graficar_outliers('bedrooms', data_out, np.arange(10)-0.5)\n",
        "\n",
        "data_out = data.query('(`surface_covered` <= `surface_total`) & (`surface_covered` >= 15 & `surface_covered` <= 400)')\n",
        "graficar_outliers('surface_covered', data_out)\n",
        "\n",
        "data_out = data.query('`surface_total` <= 1000 & `surface_total` >= 15')\n",
        "graficar_outliers('surface_total', data_out)\n",
        "\n",
        "data_out = data.query('price <= 1000000')\n",
        "graficar_outliers('price', data_out)"
      ],
      "execution_count": null,
      "outputs": [
        {
          "output_type": "display_data",
          "data": {
            "image/png": "[encoded data removed]",
            "text/plain": [
              "<Figure size 1008x360 with 2 Axes>"
            ]
          },
          "metadata": {
            "tags": [],
            "needs_background": "light"
          }
        },
        {
          "output_type": "display_data",
          "data": {
            "image/png": "[encoded data removed]",
            "text/plain": [
              "<Figure size 1008x360 with 2 Axes>"
            ]
          },
          "metadata": {
            "tags": [],
            "needs_background": "light"
          }
        },
        {
          "output_type": "display_data",
          "data": {
            "image/png": "[encoded data removed]",
            "text/plain": [
              "<Figure size 1008x360 with 2 Axes>"
            ]
          },
          "metadata": {
            "tags": [],
            "needs_background": "light"
          }
        },
        {
          "output_type": "display_data",
          "data": {
            "image/png": "[encoded data removed]",
            "text/plain": [
              "<Figure size 1008x360 with 2 Axes>"
            ]
          },
          "metadata": {
            "tags": [],
            "needs_background": "light"
          }
        },
        {
          "output_type": "display_data",
          "data": {
            "image/png": "[encoded data removed]",
            "text/plain": [
              "<Figure size 1008x360 with 2 Axes>"
            ]
          },
          "metadata": {
            "tags": [],
            "needs_background": "light"
          }
        },
        {
          "output_type": "display_data",
          "data": {
            "image/png": "[encoded data removed]",
            "text/plain": [
              "<Figure size 1008x360 with 2 Axes>"
            ]
          },
          "metadata": {
            "tags": [],
            "needs_background": "light"
          }
        }
      ]
    },
    {
      "cell_type": "markdown",
      "metadata": {
        "id": "VVECWLOs-WgQ"
      },
      "source": [
        "En las gráficas se puede observar información como por ejemplo que la mediana para ***rooms*** es tres, la de ***bedrooms*** es dos y para ***bathrooms*** es uno. En cuanto a la variable **surface_total** su mediana es mayor a la de ***surface_covered*** como es de esperar. \n",
        "En todas las variables observamos la presencia de outliers que ahora vamos a proceder a trabajarlos."
      ]
    },
    {
      "cell_type": "markdown",
      "metadata": {
        "id": "7YV7hOtDgsZm"
      },
      "source": [
        "# *Detección y eliminación de Outliers*"
      ]
    },
    {
      "cell_type": "markdown",
      "metadata": {
        "id": "4fbxn1aQgvTc"
      },
      "source": [
        "**Detección de Outliers para la variable price**"
      ]
    },
    {
      "cell_type": "code",
      "metadata": {
        "colab": {
          "base_uri": "https://localhost:8080/"
        },
        "id": "49FE_NfNgyFT",
        "outputId": "0a00e731-4222-4248-d140-03f7f74f9527"
      },
      "source": [
        "q25,q75 = np.percentile(data.price.values,[25,75])\n",
        "iqr = q75 - q25\n",
        "minimo = q25 - 1.5*iqr\n",
        "maximo = q75 + 1.5*iqr\n",
        "print(q25,q75,iqr, minimo, maximo)"
      ],
      "execution_count": null,
      "outputs": [
        {
          "output_type": "stream",
          "text": [
            "121600.0 279000.0 157400.0 -114500.0 515100.0\n"
          ],
          "name": "stdout"
        }
      ]
    },
    {
      "cell_type": "code",
      "metadata": {
        "colab": {
          "base_uri": "https://localhost:8080/"
        },
        "id": "5xiQ392Agzz4",
        "outputId": "ed73c23f-a849-4290-a7a2-52baf6ff12b8"
      },
      "source": [
        "mascara = (data.price < minimo) | (data.price > maximo)\n",
        "mascara.sum()"
      ],
      "execution_count": null,
      "outputs": [
        {
          "output_type": "execute_result",
          "data": {
            "text/plain": [
              "7467"
            ]
          },
          "metadata": {
            "tags": []
          },
          "execution_count": 12
        }
      ]
    },
    {
      "cell_type": "code",
      "metadata": {
        "id": "1-G_s2nmg1vb"
      },
      "source": [
        "data.drop(labels=data.loc[mascara].index, inplace= True)"
      ],
      "execution_count": null,
      "outputs": []
    },
    {
      "cell_type": "code",
      "metadata": {
        "colab": {
          "base_uri": "https://localhost:8080/"
        },
        "id": "kO8gNlv4g3G9",
        "outputId": "96005eb3-0377-4db8-9578-13eb7175a68a"
      },
      "source": [
        "data.shape"
      ],
      "execution_count": null,
      "outputs": [
        {
          "output_type": "execute_result",
          "data": {
            "text/plain": [
              "(83196, 10)"
            ]
          },
          "metadata": {
            "tags": []
          },
          "execution_count": 14
        }
      ]
    },
    {
      "cell_type": "markdown",
      "metadata": {
        "id": "GYvvyr4-g6kU"
      },
      "source": [
        "**Detección de Outliers para la variable rooms**"
      ]
    },
    {
      "cell_type": "code",
      "metadata": {
        "colab": {
          "base_uri": "https://localhost:8080/"
        },
        "id": "o3iV00kouFOB",
        "outputId": "be5fac05-ccfc-48c0-e006-7a2a5f7d0e7f"
      },
      "source": [
        "valor_medio = data.rooms.mean()\n",
        "std = data.rooms.std()\n",
        "minimo = valor_medio - 3*std\n",
        "maximo = valor_medio + 3*std\n",
        "mascara_outliers = np.logical_or(data.rooms < minimo , data.rooms > maximo)\n",
        "print(minimo,maximo)"
      ],
      "execution_count": null,
      "outputs": [
        {
          "output_type": "stream",
          "text": [
            "-0.6917782300587403 6.311832078801468\n"
          ],
          "name": "stdout"
        }
      ]
    },
    {
      "cell_type": "code",
      "metadata": {
        "colab": {
          "base_uri": "https://localhost:8080/"
        },
        "id": "C69qFb-XuHBM",
        "outputId": "f59a9270-f0d3-40f7-fbf6-b4996e346802"
      },
      "source": [
        "mascara_dos = (data.rooms < minimo) | (data.rooms > maximo)\n",
        "mascara_dos.sum()"
      ],
      "execution_count": null,
      "outputs": [
        {
          "output_type": "execute_result",
          "data": {
            "text/plain": [
              "611"
            ]
          },
          "metadata": {
            "tags": []
          },
          "execution_count": 16
        }
      ]
    },
    {
      "cell_type": "code",
      "metadata": {
        "id": "MM_TwLH2uIlG"
      },
      "source": [
        "data.drop(labels=data.loc[mascara_dos].index, inplace= True)"
      ],
      "execution_count": null,
      "outputs": []
    },
    {
      "cell_type": "markdown",
      "metadata": {
        "id": "28FWchvZuKXg"
      },
      "source": [
        "**Detección de Outliers para la variable bathrooms**"
      ]
    },
    {
      "cell_type": "code",
      "metadata": {
        "colab": {
          "base_uri": "https://localhost:8080/"
        },
        "id": "aEnf2KqHuLwF",
        "outputId": "754a088b-8f2e-4aeb-e3f3-3c0ab039b9a3"
      },
      "source": [
        "valor_medio = data.bathrooms.mean()\n",
        "std = data.bathrooms.std()\n",
        "minimo = valor_medio - 3*std\n",
        "maximo = valor_medio + 3*std\n",
        "mascara_outliers = np.logical_or(data.bathrooms < minimo , data.bathrooms > maximo)\n",
        "print(minimo,maximo)"
      ],
      "execution_count": null,
      "outputs": [
        {
          "output_type": "stream",
          "text": [
            "-0.5979884546077292 3.422420865557106\n"
          ],
          "name": "stdout"
        }
      ]
    },
    {
      "cell_type": "code",
      "metadata": {
        "colab": {
          "base_uri": "https://localhost:8080/"
        },
        "id": "oF_SAO5tuNFK",
        "outputId": "91b871c1-1643-402b-ff2f-c8acdc442283"
      },
      "source": [
        "mascara_tres = (data.bathrooms < minimo) | (data.bathrooms > maximo)\n",
        "mascara_tres.sum()"
      ],
      "execution_count": null,
      "outputs": [
        {
          "output_type": "execute_result",
          "data": {
            "text/plain": [
              "971"
            ]
          },
          "metadata": {
            "tags": []
          },
          "execution_count": 20
        }
      ]
    },
    {
      "cell_type": "code",
      "metadata": {
        "id": "Evz1B1oDuOvy"
      },
      "source": [
        "data.drop(labels=data.loc[mascara_tres].index, inplace= True)"
      ],
      "execution_count": null,
      "outputs": []
    },
    {
      "cell_type": "markdown",
      "metadata": {
        "id": "N9LeWZOzuR_3"
      },
      "source": [
        "**Detección de Outliers para la variable bedrooms**"
      ]
    },
    {
      "cell_type": "code",
      "metadata": {
        "colab": {
          "base_uri": "https://localhost:8080/"
        },
        "id": "1gSsh2ZOx6CF",
        "outputId": "aff1d2d8-48df-4bb2-eda7-4f027bf3ab32"
      },
      "source": [
        "valor_medio = data.bedrooms.mean()\n",
        "std = data.bedrooms.std()\n",
        "minimo = valor_medio - 3*std\n",
        "maximo = valor_medio + 3*std\n",
        "mascara_outliers_dos = np.logical_or(data.bedrooms < minimo , data.bedrooms > maximo)\n",
        "print(minimo,maximo)"
      ],
      "execution_count": null,
      "outputs": [
        {
          "output_type": "stream",
          "text": [
            "-0.9321356965759715 4.529386168308762\n"
          ],
          "name": "stdout"
        }
      ]
    },
    {
      "cell_type": "code",
      "metadata": {
        "colab": {
          "base_uri": "https://localhost:8080/"
        },
        "id": "kUzGrRJWx7cV",
        "outputId": "487008e2-5e46-4489-f76d-5047a91b5c4a"
      },
      "source": [
        "mascara_cuatro = (data.bedrooms < minimo) | (data.bedrooms > maximo)\n",
        "mascara_cuatro.sum()"
      ],
      "execution_count": null,
      "outputs": [
        {
          "output_type": "execute_result",
          "data": {
            "text/plain": [
              "258"
            ]
          },
          "metadata": {
            "tags": []
          },
          "execution_count": 23
        }
      ]
    },
    {
      "cell_type": "code",
      "metadata": {
        "id": "gws1v0l0x9Mu"
      },
      "source": [
        "data.drop(labels=data.loc[mascara_cuatro].index, inplace= True)"
      ],
      "execution_count": null,
      "outputs": []
    },
    {
      "cell_type": "markdown",
      "metadata": {
        "id": "TBECwnmZx_Uf"
      },
      "source": [
        "**Detección de Outliers para la variable surface covered**"
      ]
    },
    {
      "cell_type": "code",
      "metadata": {
        "colab": {
          "base_uri": "https://localhost:8080/"
        },
        "id": "a1vaG9M4_L-z",
        "outputId": "dbb77b2c-237f-4c3d-f62c-236e2d6b1b66"
      },
      "source": [
        "valor_medio = data.surface_covered.mean()\n",
        "std = data.surface_covered.std()\n",
        "minimo = valor_medio - 3*std\n",
        "maximo = valor_medio + 3*std\n",
        "mascara_outliers_dos = np.logical_or(data.surface_covered < minimo , data.surface_covered > maximo)\n",
        "print(minimo,maximo)"
      ],
      "execution_count": null,
      "outputs": [
        {
          "output_type": "stream",
          "text": [
            "-2351.0398446425147 2508.9418643868544\n"
          ],
          "name": "stdout"
        }
      ]
    },
    {
      "cell_type": "code",
      "metadata": {
        "colab": {
          "base_uri": "https://localhost:8080/"
        },
        "id": "lYP-Eosj_NVT",
        "outputId": "1cc0a488-d4b5-4fff-b3c8-25f42e68d34e"
      },
      "source": [
        "mascara_cinco = (data.surface_covered < minimo) | (data.surface_covered > maximo)\n",
        "mascara_cinco.sum()"
      ],
      "execution_count": null,
      "outputs": [
        {
          "output_type": "execute_result",
          "data": {
            "text/plain": [
              "75"
            ]
          },
          "metadata": {
            "tags": []
          },
          "execution_count": 26
        }
      ]
    },
    {
      "cell_type": "code",
      "metadata": {
        "id": "dVg55xlm_Ow2"
      },
      "source": [
        "data.drop(labels=data.loc[mascara_cinco].index, inplace= True)"
      ],
      "execution_count": null,
      "outputs": []
    },
    {
      "cell_type": "markdown",
      "metadata": {
        "id": "RtiUtf-x_P2Y"
      },
      "source": [
        "**Detección de Outliers para la variable surface total**"
      ]
    },
    {
      "cell_type": "code",
      "metadata": {
        "colab": {
          "base_uri": "https://localhost:8080/"
        },
        "id": "QRpXEhzO_RhJ",
        "outputId": "a0035d9e-55b4-4ed7-dc01-83157373cba6"
      },
      "source": [
        "valor_medio = data.surface_total.mean()\n",
        "std = data.surface_total.std()\n",
        "minimo = valor_medio - 3*std\n",
        "maximo = valor_medio + 3*std\n",
        "mascara_outliers_dos = np.logical_or(data.surface_total < minimo , data.surface_total > maximo)\n",
        "print(minimo,maximo)"
      ],
      "execution_count": null,
      "outputs": [
        {
          "output_type": "stream",
          "text": [
            "-1856.6594012132978 2030.137833498476\n"
          ],
          "name": "stdout"
        }
      ]
    },
    {
      "cell_type": "code",
      "metadata": {
        "colab": {
          "base_uri": "https://localhost:8080/"
        },
        "id": "hxEHBNZS_TM6",
        "outputId": "27e022fb-655d-4025-f564-553a3cb64194"
      },
      "source": [
        "mascara_seis = (data.surface_total < minimo) | (data.surface_total > maximo)\n",
        "mascara_seis.sum()"
      ],
      "execution_count": null,
      "outputs": [
        {
          "output_type": "execute_result",
          "data": {
            "text/plain": [
              "46"
            ]
          },
          "metadata": {
            "tags": []
          },
          "execution_count": 29
        }
      ]
    },
    {
      "cell_type": "code",
      "metadata": {
        "id": "tgzolIPh_Ukz"
      },
      "source": [
        "data.drop(labels=data.loc[mascara_seis].index, inplace= True)"
      ],
      "execution_count": null,
      "outputs": []
    },
    {
      "cell_type": "code",
      "metadata": {
        "colab": {
          "base_uri": "https://localhost:8080/"
        },
        "id": "53yj-6xg_Vua",
        "outputId": "528fe43d-8dd1-40df-a500-0285948a32f3"
      },
      "source": [
        "data.shape"
      ],
      "execution_count": null,
      "outputs": [
        {
          "output_type": "execute_result",
          "data": {
            "text/plain": [
              "(81235, 10)"
            ]
          },
          "metadata": {
            "tags": []
          },
          "execution_count": 30
        }
      ]
    },
    {
      "cell_type": "markdown",
      "metadata": {
        "id": "aVk3UFoM_YBV"
      },
      "source": [
        "**Imputación de valores faltantes**"
      ]
    },
    {
      "cell_type": "code",
      "metadata": {
        "colab": {
          "base_uri": "https://localhost:8080/"
        },
        "id": "DKzHGwG8_c8R",
        "outputId": "119c1463-f698-4cfb-ce1e-0f8039c11b7f"
      },
      "source": [
        "data.isna().sum()"
      ],
      "execution_count": null,
      "outputs": [
        {
          "output_type": "execute_result",
          "data": {
            "text/plain": [
              "property_type         0\n",
              "rooms                 0\n",
              "bedrooms              0\n",
              "bathrooms          2052\n",
              "surface_total      8232\n",
              "surface_covered    8525\n",
              "price                 0\n",
              "Casa                  0\n",
              "PH                    0\n",
              "Departamento          0\n",
              "dtype: int64"
            ]
          },
          "metadata": {
            "tags": []
          },
          "execution_count": 31
        }
      ]
    },
    {
      "cell_type": "markdown",
      "metadata": {
        "id": "yjxat2uxVIm4"
      },
      "source": [
        "Dada la correlación entre ***bathrooms*** y ***rooms***, vamos a realizar una predicción para ***bathrooms*** tomando como referencia la variable ***rooms***."
      ]
    },
    {
      "cell_type": "code",
      "metadata": {
        "id": "xGmybWUU_eFX"
      },
      "source": [
        "reg = LinearRegression()"
      ],
      "execution_count": null,
      "outputs": []
    },
    {
      "cell_type": "code",
      "metadata": {
        "colab": {
          "base_uri": "https://localhost:8080/",
          "height": 204
        },
        "id": "bAKpALlp_fVg",
        "outputId": "3b07dfc5-31b5-43f5-e62b-09c417f5d6e0"
      },
      "source": [
        "data_aux = data.dropna()\n",
        "data_aux.head()"
      ],
      "execution_count": null,
      "outputs": [
        {
          "output_type": "execute_result",
          "data": {
            "text/html": [
              "<div>\n",
              "<style scoped>\n",
              "    .dataframe tbody tr th:only-of-type {\n",
              "        vertical-align: middle;\n",
              "    }\n",
              "\n",
              "    .dataframe tbody tr th {\n",
              "        vertical-align: top;\n",
              "    }\n",
              "\n",
              "    .dataframe thead th {\n",
              "        text-align: right;\n",
              "    }\n",
              "</style>\n",
              "<table border=\"1\" class=\"dataframe\">\n",
              "  <thead>\n",
              "    <tr style=\"text-align: right;\">\n",
              "      <th></th>\n",
              "      <th>property_type</th>\n",
              "      <th>rooms</th>\n",
              "      <th>bedrooms</th>\n",
              "      <th>bathrooms</th>\n",
              "      <th>surface_total</th>\n",
              "      <th>surface_covered</th>\n",
              "      <th>price</th>\n",
              "      <th>Casa</th>\n",
              "      <th>PH</th>\n",
              "      <th>Departamento</th>\n",
              "    </tr>\n",
              "  </thead>\n",
              "  <tbody>\n",
              "    <tr>\n",
              "      <th>1</th>\n",
              "      <td>PH</td>\n",
              "      <td>2.0</td>\n",
              "      <td>1.0</td>\n",
              "      <td>2.0</td>\n",
              "      <td>70.0</td>\n",
              "      <td>58.0</td>\n",
              "      <td>159000.0</td>\n",
              "      <td>0</td>\n",
              "      <td>0</td>\n",
              "      <td>1</td>\n",
              "    </tr>\n",
              "    <tr>\n",
              "      <th>2</th>\n",
              "      <td>PH</td>\n",
              "      <td>2.0</td>\n",
              "      <td>1.0</td>\n",
              "      <td>1.0</td>\n",
              "      <td>45.0</td>\n",
              "      <td>45.0</td>\n",
              "      <td>125000.0</td>\n",
              "      <td>0</td>\n",
              "      <td>0</td>\n",
              "      <td>1</td>\n",
              "    </tr>\n",
              "    <tr>\n",
              "      <th>3</th>\n",
              "      <td>PH</td>\n",
              "      <td>2.0</td>\n",
              "      <td>1.0</td>\n",
              "      <td>1.0</td>\n",
              "      <td>85.0</td>\n",
              "      <td>50.0</td>\n",
              "      <td>295000.0</td>\n",
              "      <td>0</td>\n",
              "      <td>0</td>\n",
              "      <td>1</td>\n",
              "    </tr>\n",
              "    <tr>\n",
              "      <th>4</th>\n",
              "      <td>PH</td>\n",
              "      <td>2.0</td>\n",
              "      <td>1.0</td>\n",
              "      <td>1.0</td>\n",
              "      <td>56.0</td>\n",
              "      <td>56.0</td>\n",
              "      <td>150000.0</td>\n",
              "      <td>0</td>\n",
              "      <td>0</td>\n",
              "      <td>1</td>\n",
              "    </tr>\n",
              "    <tr>\n",
              "      <th>5</th>\n",
              "      <td>PH</td>\n",
              "      <td>2.0</td>\n",
              "      <td>1.0</td>\n",
              "      <td>1.0</td>\n",
              "      <td>70.0</td>\n",
              "      <td>70.0</td>\n",
              "      <td>159500.0</td>\n",
              "      <td>0</td>\n",
              "      <td>0</td>\n",
              "      <td>1</td>\n",
              "    </tr>\n",
              "  </tbody>\n",
              "</table>\n",
              "</div>"
            ],
            "text/plain": [
              "  property_type  rooms  bedrooms  bathrooms  ...     price  Casa  PH  Departamento\n",
              "1            PH    2.0       1.0        2.0  ...  159000.0     0   0             1\n",
              "2            PH    2.0       1.0        1.0  ...  125000.0     0   0             1\n",
              "3            PH    2.0       1.0        1.0  ...  295000.0     0   0             1\n",
              "4            PH    2.0       1.0        1.0  ...  150000.0     0   0             1\n",
              "5            PH    2.0       1.0        1.0  ...  159500.0     0   0             1\n",
              "\n",
              "[5 rows x 10 columns]"
            ]
          },
          "metadata": {
            "tags": []
          },
          "execution_count": 33
        }
      ]
    },
    {
      "cell_type": "code",
      "metadata": {
        "id": "Dn5BGar__gyH"
      },
      "source": [
        "X = np.array(data_aux['rooms']).reshape(-1,1)\n",
        "y = data_aux.bathrooms"
      ],
      "execution_count": null,
      "outputs": []
    },
    {
      "cell_type": "code",
      "metadata": {
        "colab": {
          "base_uri": "https://localhost:8080/"
        },
        "id": "Ry6w27-c_hv8",
        "outputId": "28b7b736-0fab-4918-e184-af423e7f0655"
      },
      "source": [
        "reg.fit(X,y)"
      ],
      "execution_count": null,
      "outputs": [
        {
          "output_type": "execute_result",
          "data": {
            "text/plain": [
              "LinearRegression(copy_X=True, fit_intercept=True, n_jobs=None, normalize=False)"
            ]
          },
          "metadata": {
            "tags": []
          },
          "execution_count": 35
        }
      ]
    },
    {
      "cell_type": "code",
      "metadata": {
        "colab": {
          "base_uri": "https://localhost:8080/",
          "height": 419
        },
        "id": "L7lob_K3_jDl",
        "outputId": "df610267-36e3-437e-b065-907b3196bfb8"
      },
      "source": [
        "data[data['bathrooms'].isnull()]"
      ],
      "execution_count": null,
      "outputs": [
        {
          "output_type": "execute_result",
          "data": {
            "text/html": [
              "<div>\n",
              "<style scoped>\n",
              "    .dataframe tbody tr th:only-of-type {\n",
              "        vertical-align: middle;\n",
              "    }\n",
              "\n",
              "    .dataframe tbody tr th {\n",
              "        vertical-align: top;\n",
              "    }\n",
              "\n",
              "    .dataframe thead th {\n",
              "        text-align: right;\n",
              "    }\n",
              "</style>\n",
              "<table border=\"1\" class=\"dataframe\">\n",
              "  <thead>\n",
              "    <tr style=\"text-align: right;\">\n",
              "      <th></th>\n",
              "      <th>property_type</th>\n",
              "      <th>rooms</th>\n",
              "      <th>bedrooms</th>\n",
              "      <th>bathrooms</th>\n",
              "      <th>surface_total</th>\n",
              "      <th>surface_covered</th>\n",
              "      <th>price</th>\n",
              "      <th>Casa</th>\n",
              "      <th>PH</th>\n",
              "      <th>Departamento</th>\n",
              "    </tr>\n",
              "  </thead>\n",
              "  <tbody>\n",
              "    <tr>\n",
              "      <th>292</th>\n",
              "      <td>Departamento</td>\n",
              "      <td>1.0</td>\n",
              "      <td>1.0</td>\n",
              "      <td>NaN</td>\n",
              "      <td>23.0</td>\n",
              "      <td>23.0</td>\n",
              "      <td>72000.0</td>\n",
              "      <td>0</td>\n",
              "      <td>1</td>\n",
              "      <td>0</td>\n",
              "    </tr>\n",
              "    <tr>\n",
              "      <th>301</th>\n",
              "      <td>Departamento</td>\n",
              "      <td>1.0</td>\n",
              "      <td>1.0</td>\n",
              "      <td>NaN</td>\n",
              "      <td>14.0</td>\n",
              "      <td>14.0</td>\n",
              "      <td>27000.0</td>\n",
              "      <td>0</td>\n",
              "      <td>1</td>\n",
              "      <td>0</td>\n",
              "    </tr>\n",
              "    <tr>\n",
              "      <th>378</th>\n",
              "      <td>Departamento</td>\n",
              "      <td>4.0</td>\n",
              "      <td>3.0</td>\n",
              "      <td>NaN</td>\n",
              "      <td>88.0</td>\n",
              "      <td>88.0</td>\n",
              "      <td>192000.0</td>\n",
              "      <td>0</td>\n",
              "      <td>1</td>\n",
              "      <td>0</td>\n",
              "    </tr>\n",
              "    <tr>\n",
              "      <th>404</th>\n",
              "      <td>Departamento</td>\n",
              "      <td>2.0</td>\n",
              "      <td>1.0</td>\n",
              "      <td>NaN</td>\n",
              "      <td>25.0</td>\n",
              "      <td>23.0</td>\n",
              "      <td>70000.0</td>\n",
              "      <td>0</td>\n",
              "      <td>1</td>\n",
              "      <td>0</td>\n",
              "    </tr>\n",
              "    <tr>\n",
              "      <th>429</th>\n",
              "      <td>Departamento</td>\n",
              "      <td>1.0</td>\n",
              "      <td>0.0</td>\n",
              "      <td>NaN</td>\n",
              "      <td>38.0</td>\n",
              "      <td>32.0</td>\n",
              "      <td>85000.0</td>\n",
              "      <td>0</td>\n",
              "      <td>1</td>\n",
              "      <td>0</td>\n",
              "    </tr>\n",
              "    <tr>\n",
              "      <th>...</th>\n",
              "      <td>...</td>\n",
              "      <td>...</td>\n",
              "      <td>...</td>\n",
              "      <td>...</td>\n",
              "      <td>...</td>\n",
              "      <td>...</td>\n",
              "      <td>...</td>\n",
              "      <td>...</td>\n",
              "      <td>...</td>\n",
              "      <td>...</td>\n",
              "    </tr>\n",
              "    <tr>\n",
              "      <th>86405</th>\n",
              "      <td>Departamento</td>\n",
              "      <td>2.0</td>\n",
              "      <td>1.0</td>\n",
              "      <td>NaN</td>\n",
              "      <td>59.0</td>\n",
              "      <td>58.0</td>\n",
              "      <td>169000.0</td>\n",
              "      <td>0</td>\n",
              "      <td>1</td>\n",
              "      <td>0</td>\n",
              "    </tr>\n",
              "    <tr>\n",
              "      <th>87058</th>\n",
              "      <td>Departamento</td>\n",
              "      <td>2.0</td>\n",
              "      <td>1.0</td>\n",
              "      <td>NaN</td>\n",
              "      <td>67.0</td>\n",
              "      <td>67.0</td>\n",
              "      <td>130000.0</td>\n",
              "      <td>0</td>\n",
              "      <td>1</td>\n",
              "      <td>0</td>\n",
              "    </tr>\n",
              "    <tr>\n",
              "      <th>87081</th>\n",
              "      <td>Departamento</td>\n",
              "      <td>3.0</td>\n",
              "      <td>2.0</td>\n",
              "      <td>NaN</td>\n",
              "      <td>72.0</td>\n",
              "      <td>68.0</td>\n",
              "      <td>255000.0</td>\n",
              "      <td>0</td>\n",
              "      <td>1</td>\n",
              "      <td>0</td>\n",
              "    </tr>\n",
              "    <tr>\n",
              "      <th>87743</th>\n",
              "      <td>Departamento</td>\n",
              "      <td>3.0</td>\n",
              "      <td>2.0</td>\n",
              "      <td>NaN</td>\n",
              "      <td>80.0</td>\n",
              "      <td>80.0</td>\n",
              "      <td>280000.0</td>\n",
              "      <td>0</td>\n",
              "      <td>1</td>\n",
              "      <td>0</td>\n",
              "    </tr>\n",
              "    <tr>\n",
              "      <th>90563</th>\n",
              "      <td>Departamento</td>\n",
              "      <td>2.0</td>\n",
              "      <td>1.0</td>\n",
              "      <td>NaN</td>\n",
              "      <td>45.0</td>\n",
              "      <td>45.0</td>\n",
              "      <td>170000.0</td>\n",
              "      <td>0</td>\n",
              "      <td>1</td>\n",
              "      <td>0</td>\n",
              "    </tr>\n",
              "  </tbody>\n",
              "</table>\n",
              "<p>2052 rows × 10 columns</p>\n",
              "</div>"
            ],
            "text/plain": [
              "      property_type  rooms  bedrooms  ...  Casa  PH  Departamento\n",
              "292    Departamento    1.0       1.0  ...     0   1             0\n",
              "301    Departamento    1.0       1.0  ...     0   1             0\n",
              "378    Departamento    4.0       3.0  ...     0   1             0\n",
              "404    Departamento    2.0       1.0  ...     0   1             0\n",
              "429    Departamento    1.0       0.0  ...     0   1             0\n",
              "...             ...    ...       ...  ...   ...  ..           ...\n",
              "86405  Departamento    2.0       1.0  ...     0   1             0\n",
              "87058  Departamento    2.0       1.0  ...     0   1             0\n",
              "87081  Departamento    3.0       2.0  ...     0   1             0\n",
              "87743  Departamento    3.0       2.0  ...     0   1             0\n",
              "90563  Departamento    2.0       1.0  ...     0   1             0\n",
              "\n",
              "[2052 rows x 10 columns]"
            ]
          },
          "metadata": {
            "tags": []
          },
          "execution_count": 36
        }
      ]
    },
    {
      "cell_type": "code",
      "metadata": {
        "colab": {
          "base_uri": "https://localhost:8080/"
        },
        "id": "3DUTIbLX_khD",
        "outputId": "a989ff1f-2c0b-478a-daee-6edc351598b1"
      },
      "source": [
        "data[data['bathrooms'].isnull()].rooms"
      ],
      "execution_count": null,
      "outputs": [
        {
          "output_type": "execute_result",
          "data": {
            "text/plain": [
              "292      1.0\n",
              "301      1.0\n",
              "378      4.0\n",
              "404      2.0\n",
              "429      1.0\n",
              "        ... \n",
              "86405    2.0\n",
              "87058    2.0\n",
              "87081    3.0\n",
              "87743    3.0\n",
              "90563    2.0\n",
              "Name: rooms, Length: 2052, dtype: float64"
            ]
          },
          "metadata": {
            "tags": []
          },
          "execution_count": 37
        }
      ]
    },
    {
      "cell_type": "code",
      "metadata": {
        "id": "l1SEb1oI_l5J"
      },
      "source": [
        "bathrooms_completar = reg.predict(np.array(data[data['bathrooms'].isnull()].rooms).reshape(-1,1))"
      ],
      "execution_count": null,
      "outputs": []
    },
    {
      "cell_type": "code",
      "metadata": {
        "id": "0KA9pcAw_nYy"
      },
      "source": [
        "data.loc[data['bathrooms'].isnull(),'bathrooms'] = bathrooms_completar"
      ],
      "execution_count": null,
      "outputs": []
    },
    {
      "cell_type": "code",
      "metadata": {
        "colab": {
          "base_uri": "https://localhost:8080/",
          "height": 419
        },
        "id": "-LSf3il9_oE6",
        "outputId": "0dc1d077-5a09-40ac-9d4c-bbf2efa9b507"
      },
      "source": [
        "data"
      ],
      "execution_count": null,
      "outputs": [
        {
          "output_type": "execute_result",
          "data": {
            "text/html": [
              "<div>\n",
              "<style scoped>\n",
              "    .dataframe tbody tr th:only-of-type {\n",
              "        vertical-align: middle;\n",
              "    }\n",
              "\n",
              "    .dataframe tbody tr th {\n",
              "        vertical-align: top;\n",
              "    }\n",
              "\n",
              "    .dataframe thead th {\n",
              "        text-align: right;\n",
              "    }\n",
              "</style>\n",
              "<table border=\"1\" class=\"dataframe\">\n",
              "  <thead>\n",
              "    <tr style=\"text-align: right;\">\n",
              "      <th></th>\n",
              "      <th>property_type</th>\n",
              "      <th>rooms</th>\n",
              "      <th>bedrooms</th>\n",
              "      <th>bathrooms</th>\n",
              "      <th>surface_total</th>\n",
              "      <th>surface_covered</th>\n",
              "      <th>price</th>\n",
              "      <th>Casa</th>\n",
              "      <th>PH</th>\n",
              "      <th>Departamento</th>\n",
              "    </tr>\n",
              "  </thead>\n",
              "  <tbody>\n",
              "    <tr>\n",
              "      <th>1</th>\n",
              "      <td>PH</td>\n",
              "      <td>2.0</td>\n",
              "      <td>1.0</td>\n",
              "      <td>2.0</td>\n",
              "      <td>70.0</td>\n",
              "      <td>58.0</td>\n",
              "      <td>159000.0</td>\n",
              "      <td>0</td>\n",
              "      <td>0</td>\n",
              "      <td>1</td>\n",
              "    </tr>\n",
              "    <tr>\n",
              "      <th>2</th>\n",
              "      <td>PH</td>\n",
              "      <td>2.0</td>\n",
              "      <td>1.0</td>\n",
              "      <td>1.0</td>\n",
              "      <td>45.0</td>\n",
              "      <td>45.0</td>\n",
              "      <td>125000.0</td>\n",
              "      <td>0</td>\n",
              "      <td>0</td>\n",
              "      <td>1</td>\n",
              "    </tr>\n",
              "    <tr>\n",
              "      <th>3</th>\n",
              "      <td>PH</td>\n",
              "      <td>2.0</td>\n",
              "      <td>1.0</td>\n",
              "      <td>1.0</td>\n",
              "      <td>85.0</td>\n",
              "      <td>50.0</td>\n",
              "      <td>295000.0</td>\n",
              "      <td>0</td>\n",
              "      <td>0</td>\n",
              "      <td>1</td>\n",
              "    </tr>\n",
              "    <tr>\n",
              "      <th>4</th>\n",
              "      <td>PH</td>\n",
              "      <td>2.0</td>\n",
              "      <td>1.0</td>\n",
              "      <td>1.0</td>\n",
              "      <td>56.0</td>\n",
              "      <td>56.0</td>\n",
              "      <td>150000.0</td>\n",
              "      <td>0</td>\n",
              "      <td>0</td>\n",
              "      <td>1</td>\n",
              "    </tr>\n",
              "    <tr>\n",
              "      <th>5</th>\n",
              "      <td>PH</td>\n",
              "      <td>2.0</td>\n",
              "      <td>1.0</td>\n",
              "      <td>1.0</td>\n",
              "      <td>70.0</td>\n",
              "      <td>70.0</td>\n",
              "      <td>159500.0</td>\n",
              "      <td>0</td>\n",
              "      <td>0</td>\n",
              "      <td>1</td>\n",
              "    </tr>\n",
              "    <tr>\n",
              "      <th>...</th>\n",
              "      <td>...</td>\n",
              "      <td>...</td>\n",
              "      <td>...</td>\n",
              "      <td>...</td>\n",
              "      <td>...</td>\n",
              "      <td>...</td>\n",
              "      <td>...</td>\n",
              "      <td>...</td>\n",
              "      <td>...</td>\n",
              "      <td>...</td>\n",
              "    </tr>\n",
              "    <tr>\n",
              "      <th>90652</th>\n",
              "      <td>Departamento</td>\n",
              "      <td>3.0</td>\n",
              "      <td>2.0</td>\n",
              "      <td>2.0</td>\n",
              "      <td>82.0</td>\n",
              "      <td>82.0</td>\n",
              "      <td>475000.0</td>\n",
              "      <td>0</td>\n",
              "      <td>1</td>\n",
              "      <td>0</td>\n",
              "    </tr>\n",
              "    <tr>\n",
              "      <th>90653</th>\n",
              "      <td>PH</td>\n",
              "      <td>3.0</td>\n",
              "      <td>2.0</td>\n",
              "      <td>1.0</td>\n",
              "      <td>84.0</td>\n",
              "      <td>84.0</td>\n",
              "      <td>178000.0</td>\n",
              "      <td>0</td>\n",
              "      <td>0</td>\n",
              "      <td>1</td>\n",
              "    </tr>\n",
              "    <tr>\n",
              "      <th>90654</th>\n",
              "      <td>PH</td>\n",
              "      <td>5.0</td>\n",
              "      <td>2.0</td>\n",
              "      <td>2.0</td>\n",
              "      <td>114.0</td>\n",
              "      <td>95.0</td>\n",
              "      <td>298000.0</td>\n",
              "      <td>0</td>\n",
              "      <td>0</td>\n",
              "      <td>1</td>\n",
              "    </tr>\n",
              "    <tr>\n",
              "      <th>90659</th>\n",
              "      <td>PH</td>\n",
              "      <td>3.0</td>\n",
              "      <td>2.0</td>\n",
              "      <td>2.0</td>\n",
              "      <td>144.0</td>\n",
              "      <td>134.0</td>\n",
              "      <td>480000.0</td>\n",
              "      <td>0</td>\n",
              "      <td>0</td>\n",
              "      <td>1</td>\n",
              "    </tr>\n",
              "    <tr>\n",
              "      <th>90661</th>\n",
              "      <td>Departamento</td>\n",
              "      <td>3.0</td>\n",
              "      <td>2.0</td>\n",
              "      <td>2.0</td>\n",
              "      <td>145.0</td>\n",
              "      <td>145.0</td>\n",
              "      <td>420000.0</td>\n",
              "      <td>0</td>\n",
              "      <td>1</td>\n",
              "      <td>0</td>\n",
              "    </tr>\n",
              "  </tbody>\n",
              "</table>\n",
              "<p>81235 rows × 10 columns</p>\n",
              "</div>"
            ],
            "text/plain": [
              "      property_type  rooms  bedrooms  ...  Casa  PH  Departamento\n",
              "1                PH    2.0       1.0  ...     0   0             1\n",
              "2                PH    2.0       1.0  ...     0   0             1\n",
              "3                PH    2.0       1.0  ...     0   0             1\n",
              "4                PH    2.0       1.0  ...     0   0             1\n",
              "5                PH    2.0       1.0  ...     0   0             1\n",
              "...             ...    ...       ...  ...   ...  ..           ...\n",
              "90652  Departamento    3.0       2.0  ...     0   1             0\n",
              "90653            PH    3.0       2.0  ...     0   0             1\n",
              "90654            PH    5.0       2.0  ...     0   0             1\n",
              "90659            PH    3.0       2.0  ...     0   0             1\n",
              "90661  Departamento    3.0       2.0  ...     0   1             0\n",
              "\n",
              "[81235 rows x 10 columns]"
            ]
          },
          "metadata": {
            "tags": []
          },
          "execution_count": 40
        }
      ]
    },
    {
      "cell_type": "code",
      "metadata": {
        "colab": {
          "base_uri": "https://localhost:8080/"
        },
        "id": "emNM2LQL_p_j",
        "outputId": "ea22557e-4de2-4afe-d2d9-7b58db607937"
      },
      "source": [
        "data.isna().sum()"
      ],
      "execution_count": null,
      "outputs": [
        {
          "output_type": "execute_result",
          "data": {
            "text/plain": [
              "property_type         0\n",
              "rooms                 0\n",
              "bedrooms              0\n",
              "bathrooms             0\n",
              "surface_total      8232\n",
              "surface_covered    8525\n",
              "price                 0\n",
              "Casa                  0\n",
              "PH                    0\n",
              "Departamento          0\n",
              "dtype: int64"
            ]
          },
          "metadata": {
            "tags": []
          },
          "execution_count": 40
        }
      ]
    },
    {
      "cell_type": "code",
      "metadata": {
        "colab": {
          "base_uri": "https://localhost:8080/"
        },
        "id": "7RrQ7w24_rXZ",
        "outputId": "88dc2f24-934a-4976-abe1-379e6217a4e8"
      },
      "source": [
        "data.shape"
      ],
      "execution_count": null,
      "outputs": [
        {
          "output_type": "execute_result",
          "data": {
            "text/plain": [
              "(81235, 10)"
            ]
          },
          "metadata": {
            "tags": []
          },
          "execution_count": 41
        }
      ]
    },
    {
      "cell_type": "markdown",
      "metadata": {
        "id": "Rhosc5VA_s9S"
      },
      "source": [
        "Ahora voy a llenar los datos faltantes de las columnas ***surface_covered*** y ***surface_total***.\n",
        "Para ***surface_total*** opté por llenar en base al promedio de la variable misma ya que eliminamos los outliers y de está manera no vamos a tener valores atípicos."
      ]
    },
    {
      "cell_type": "code",
      "metadata": {
        "id": "joNEKACTAwn_"
      },
      "source": [
        "filtro_copy = data.copy()"
      ],
      "execution_count": null,
      "outputs": []
    },
    {
      "cell_type": "code",
      "metadata": {
        "colab": {
          "base_uri": "https://localhost:8080/"
        },
        "id": "WSIkbVU2AyV8",
        "outputId": "907b92a6-f595-466e-f337-0c25cdc8a26c"
      },
      "source": [
        "promedio_surf_total = filtro_copy['surface_total'].mean()\n",
        "promedio_surf_total"
      ],
      "execution_count": null,
      "outputs": [
        {
          "output_type": "execute_result",
          "data": {
            "text/plain": [
              "79.32404147774749"
            ]
          },
          "metadata": {
            "tags": []
          },
          "execution_count": 43
        }
      ]
    },
    {
      "cell_type": "code",
      "metadata": {
        "id": "2IPqbRkGAzrT"
      },
      "source": [
        "filtro_copy['surface_total'].fillna(value = promedio_surf_total, inplace = True)"
      ],
      "execution_count": null,
      "outputs": []
    },
    {
      "cell_type": "code",
      "metadata": {
        "colab": {
          "base_uri": "https://localhost:8080/"
        },
        "id": "WbAFfNyPA02z",
        "outputId": "6419512d-3a72-4ad4-aa83-6dce2c552ec8"
      },
      "source": [
        "filtro_copy.isna().sum()"
      ],
      "execution_count": null,
      "outputs": [
        {
          "output_type": "execute_result",
          "data": {
            "text/plain": [
              "property_type         0\n",
              "rooms                 0\n",
              "bedrooms              0\n",
              "bathrooms             0\n",
              "surface_total         0\n",
              "surface_covered    8525\n",
              "price                 0\n",
              "Casa                  0\n",
              "PH                    0\n",
              "Departamento          0\n",
              "dtype: int64"
            ]
          },
          "metadata": {
            "tags": []
          },
          "execution_count": 45
        }
      ]
    },
    {
      "cell_type": "markdown",
      "metadata": {
        "id": "_Ag2W5UUQ4Ab"
      },
      "source": [
        "Ahora para la variable de ***surface_covered*** vamos a realizar una predicción en base a ***surface_total*** dada su correlación como vimos en el proyecto 1."
      ]
    },
    {
      "cell_type": "code",
      "metadata": {
        "id": "d2JuAcUHA2Hp"
      },
      "source": [
        "reg2 = LinearRegression()"
      ],
      "execution_count": null,
      "outputs": []
    },
    {
      "cell_type": "code",
      "metadata": {
        "id": "ZBzqo6vPA3iP"
      },
      "source": [
        "data_aux2 = filtro_copy.dropna()"
      ],
      "execution_count": null,
      "outputs": []
    },
    {
      "cell_type": "code",
      "metadata": {
        "id": "495b5VreA4mX"
      },
      "source": [
        "X = np.array(data_aux2['surface_total']).reshape(-1,1)\n",
        "y = data_aux2['surface_covered']"
      ],
      "execution_count": null,
      "outputs": []
    },
    {
      "cell_type": "code",
      "metadata": {
        "colab": {
          "base_uri": "https://localhost:8080/"
        },
        "id": "BbMBhJ2xA5la",
        "outputId": "ae08a105-54b8-4fc8-9e8a-7e887842d184"
      },
      "source": [
        "reg.fit(X,y)"
      ],
      "execution_count": null,
      "outputs": [
        {
          "output_type": "execute_result",
          "data": {
            "text/plain": [
              "LinearRegression(copy_X=True, fit_intercept=True, n_jobs=None, normalize=False)"
            ]
          },
          "metadata": {
            "tags": []
          },
          "execution_count": 49
        }
      ]
    },
    {
      "cell_type": "code",
      "metadata": {
        "id": "Xf1Zsaz3A7id"
      },
      "source": [
        "surfcov_completar = reg.predict(np.array(filtro_copy[filtro_copy['surface_covered'].isnull()].surface_total).reshape(-1,1))"
      ],
      "execution_count": null,
      "outputs": []
    },
    {
      "cell_type": "code",
      "metadata": {
        "id": "0mFDHWFOA9ad"
      },
      "source": [
        "filtro_copy.loc[filtro_copy['surface_covered'].isnull(),'surface_covered'] = surfcov_completar"
      ],
      "execution_count": null,
      "outputs": []
    },
    {
      "cell_type": "code",
      "metadata": {
        "colab": {
          "base_uri": "https://localhost:8080/"
        },
        "id": "3totXQEDA-ig",
        "outputId": "27bbc753-e932-46f5-a3ed-1585d00b62a5"
      },
      "source": [
        "filtro_copy.isna().sum()"
      ],
      "execution_count": null,
      "outputs": [
        {
          "output_type": "execute_result",
          "data": {
            "text/plain": [
              "property_type      0\n",
              "rooms              0\n",
              "bedrooms           0\n",
              "bathrooms          0\n",
              "surface_total      0\n",
              "surface_covered    0\n",
              "price              0\n",
              "Casa               0\n",
              "PH                 0\n",
              "Departamento       0\n",
              "dtype: int64"
            ]
          },
          "metadata": {
            "tags": []
          },
          "execution_count": 52
        }
      ]
    },
    {
      "cell_type": "code",
      "metadata": {
        "colab": {
          "base_uri": "https://localhost:8080/"
        },
        "id": "gz_CRJJgBFVi",
        "outputId": "778d0316-21ae-417a-8aab-4d5548cc2eb9"
      },
      "source": [
        "filtro_copy.shape"
      ],
      "execution_count": null,
      "outputs": [
        {
          "output_type": "execute_result",
          "data": {
            "text/plain": [
              "(81235, 10)"
            ]
          },
          "metadata": {
            "tags": []
          },
          "execution_count": 53
        }
      ]
    },
    {
      "cell_type": "code",
      "metadata": {
        "colab": {
          "base_uri": "https://localhost:8080/",
          "height": 297
        },
        "id": "Hvnb2ID1BG6j",
        "outputId": "5be8b429-d155-4629-cc44-9ac844b1f6dd"
      },
      "source": [
        "filtro_copy.describe()"
      ],
      "execution_count": null,
      "outputs": [
        {
          "output_type": "execute_result",
          "data": {
            "text/html": [
              "<div>\n",
              "<style scoped>\n",
              "    .dataframe tbody tr th:only-of-type {\n",
              "        vertical-align: middle;\n",
              "    }\n",
              "\n",
              "    .dataframe tbody tr th {\n",
              "        vertical-align: top;\n",
              "    }\n",
              "\n",
              "    .dataframe thead th {\n",
              "        text-align: right;\n",
              "    }\n",
              "</style>\n",
              "<table border=\"1\" class=\"dataframe\">\n",
              "  <thead>\n",
              "    <tr style=\"text-align: right;\">\n",
              "      <th></th>\n",
              "      <th>rooms</th>\n",
              "      <th>bedrooms</th>\n",
              "      <th>bathrooms</th>\n",
              "      <th>surface_total</th>\n",
              "      <th>surface_covered</th>\n",
              "      <th>price</th>\n",
              "      <th>Casa</th>\n",
              "      <th>PH</th>\n",
              "      <th>Departamento</th>\n",
              "    </tr>\n",
              "  </thead>\n",
              "  <tbody>\n",
              "    <tr>\n",
              "      <th>count</th>\n",
              "      <td>81235.000000</td>\n",
              "      <td>81235.000000</td>\n",
              "      <td>81235.000000</td>\n",
              "      <td>81235.000000</td>\n",
              "      <td>81235.000000</td>\n",
              "      <td>81235.000000</td>\n",
              "      <td>81235.000000</td>\n",
              "      <td>81235.000000</td>\n",
              "      <td>81235.000000</td>\n",
              "    </tr>\n",
              "    <tr>\n",
              "      <th>mean</th>\n",
              "      <td>2.742389</td>\n",
              "      <td>1.788502</td>\n",
              "      <td>1.373536</td>\n",
              "      <td>79.324041</td>\n",
              "      <td>67.939961</td>\n",
              "      <td>189261.753087</td>\n",
              "      <td>0.020718</td>\n",
              "      <td>0.869170</td>\n",
              "      <td>0.110113</td>\n",
              "    </tr>\n",
              "    <tr>\n",
              "      <th>std</th>\n",
              "      <td>1.048765</td>\n",
              "      <td>0.893257</td>\n",
              "      <td>0.585165</td>\n",
              "      <td>49.635127</td>\n",
              "      <td>35.910352</td>\n",
              "      <td>96681.837868</td>\n",
              "      <td>0.142438</td>\n",
              "      <td>0.337217</td>\n",
              "      <td>0.313032</td>\n",
              "    </tr>\n",
              "    <tr>\n",
              "      <th>min</th>\n",
              "      <td>1.000000</td>\n",
              "      <td>0.000000</td>\n",
              "      <td>0.827717</td>\n",
              "      <td>12.000000</td>\n",
              "      <td>1.000000</td>\n",
              "      <td>6000.000000</td>\n",
              "      <td>0.000000</td>\n",
              "      <td>0.000000</td>\n",
              "      <td>0.000000</td>\n",
              "    </tr>\n",
              "    <tr>\n",
              "      <th>25%</th>\n",
              "      <td>2.000000</td>\n",
              "      <td>1.000000</td>\n",
              "      <td>1.000000</td>\n",
              "      <td>49.000000</td>\n",
              "      <td>44.000000</td>\n",
              "      <td>117000.000000</td>\n",
              "      <td>0.000000</td>\n",
              "      <td>1.000000</td>\n",
              "      <td>0.000000</td>\n",
              "    </tr>\n",
              "    <tr>\n",
              "      <th>50%</th>\n",
              "      <td>3.000000</td>\n",
              "      <td>2.000000</td>\n",
              "      <td>1.000000</td>\n",
              "      <td>70.000000</td>\n",
              "      <td>62.000000</td>\n",
              "      <td>165000.000000</td>\n",
              "      <td>0.000000</td>\n",
              "      <td>1.000000</td>\n",
              "      <td>0.000000</td>\n",
              "    </tr>\n",
              "    <tr>\n",
              "      <th>75%</th>\n",
              "      <td>3.000000</td>\n",
              "      <td>2.000000</td>\n",
              "      <td>2.000000</td>\n",
              "      <td>90.000000</td>\n",
              "      <td>79.000000</td>\n",
              "      <td>240000.000000</td>\n",
              "      <td>0.000000</td>\n",
              "      <td>1.000000</td>\n",
              "      <td>0.000000</td>\n",
              "    </tr>\n",
              "    <tr>\n",
              "      <th>max</th>\n",
              "      <td>6.000000</td>\n",
              "      <td>4.000000</td>\n",
              "      <td>3.000000</td>\n",
              "      <td>1438.000000</td>\n",
              "      <td>1234.000000</td>\n",
              "      <td>515000.000000</td>\n",
              "      <td>1.000000</td>\n",
              "      <td>1.000000</td>\n",
              "      <td>1.000000</td>\n",
              "    </tr>\n",
              "  </tbody>\n",
              "</table>\n",
              "</div>"
            ],
            "text/plain": [
              "              rooms      bedrooms  ...            PH  Departamento\n",
              "count  81235.000000  81235.000000  ...  81235.000000  81235.000000\n",
              "mean       2.742389      1.788502  ...      0.869170      0.110113\n",
              "std        1.048765      0.893257  ...      0.337217      0.313032\n",
              "min        1.000000      0.000000  ...      0.000000      0.000000\n",
              "25%        2.000000      1.000000  ...      1.000000      0.000000\n",
              "50%        3.000000      2.000000  ...      1.000000      0.000000\n",
              "75%        3.000000      2.000000  ...      1.000000      0.000000\n",
              "max        6.000000      4.000000  ...      1.000000      1.000000\n",
              "\n",
              "[8 rows x 9 columns]"
            ]
          },
          "metadata": {
            "tags": []
          },
          "execution_count": 55
        }
      ]
    },
    {
      "cell_type": "markdown",
      "metadata": {
        "id": "O-hLhzhySUk5"
      },
      "source": [
        "**Función para escalar las variables**"
      ]
    },
    {
      "cell_type": "code",
      "metadata": {
        "id": "5Oq9JM6xC8RN"
      },
      "source": [
        "def escalador (columna):\n",
        "    scaler = StandardScaler()\n",
        "    scaler.fit(filtro_copy[columna].values.reshape(-1,1))\n",
        "    filtro_copy[columna] = scaler.transform(filtro_copy[columna].values.reshape(-1,1))"
      ],
      "execution_count": null,
      "outputs": []
    },
    {
      "cell_type": "code",
      "metadata": {
        "id": "uCJDz7KrDj3I"
      },
      "source": [
        "escalador('rooms')\n",
        "escalador('bedrooms')\n",
        "escalador('bathrooms')\n",
        "escalador('surface_total')\n",
        "escalador('surface_covered')\n",
        "escalador('Casa')\n",
        "escalador('PH')\n",
        "escalador('Departamento')"
      ],
      "execution_count": null,
      "outputs": []
    },
    {
      "cell_type": "code",
      "metadata": {
        "colab": {
          "base_uri": "https://localhost:8080/",
          "height": 419
        },
        "id": "D7VRMM8gLHhL",
        "outputId": "68e97713-7d21-4953-dbde-ff8b27034343"
      },
      "source": [
        "filtro_copy"
      ],
      "execution_count": null,
      "outputs": [
        {
          "output_type": "execute_result",
          "data": {
            "text/html": [
              "<div>\n",
              "<style scoped>\n",
              "    .dataframe tbody tr th:only-of-type {\n",
              "        vertical-align: middle;\n",
              "    }\n",
              "\n",
              "    .dataframe tbody tr th {\n",
              "        vertical-align: top;\n",
              "    }\n",
              "\n",
              "    .dataframe thead th {\n",
              "        text-align: right;\n",
              "    }\n",
              "</style>\n",
              "<table border=\"1\" class=\"dataframe\">\n",
              "  <thead>\n",
              "    <tr style=\"text-align: right;\">\n",
              "      <th></th>\n",
              "      <th>property_type</th>\n",
              "      <th>rooms</th>\n",
              "      <th>bedrooms</th>\n",
              "      <th>bathrooms</th>\n",
              "      <th>surface_total</th>\n",
              "      <th>surface_covered</th>\n",
              "      <th>price</th>\n",
              "      <th>Casa</th>\n",
              "      <th>PH</th>\n",
              "      <th>Departamento</th>\n",
              "    </tr>\n",
              "  </thead>\n",
              "  <tbody>\n",
              "    <tr>\n",
              "      <th>1</th>\n",
              "      <td>PH</td>\n",
              "      <td>-0.707874</td>\n",
              "      <td>-0.882733</td>\n",
              "      <td>1.070583</td>\n",
              "      <td>-0.187853</td>\n",
              "      <td>-0.276801</td>\n",
              "      <td>159000.0</td>\n",
              "      <td>-0.145451</td>\n",
              "      <td>-2.577497</td>\n",
              "      <td>2.842817</td>\n",
              "    </tr>\n",
              "    <tr>\n",
              "      <th>2</th>\n",
              "      <td>PH</td>\n",
              "      <td>-0.707874</td>\n",
              "      <td>-0.882733</td>\n",
              "      <td>-0.638348</td>\n",
              "      <td>-0.691531</td>\n",
              "      <td>-0.638816</td>\n",
              "      <td>125000.0</td>\n",
              "      <td>-0.145451</td>\n",
              "      <td>-2.577497</td>\n",
              "      <td>2.842817</td>\n",
              "    </tr>\n",
              "    <tr>\n",
              "      <th>3</th>\n",
              "      <td>PH</td>\n",
              "      <td>-0.707874</td>\n",
              "      <td>-0.882733</td>\n",
              "      <td>-0.638348</td>\n",
              "      <td>0.114354</td>\n",
              "      <td>-0.499579</td>\n",
              "      <td>295000.0</td>\n",
              "      <td>-0.145451</td>\n",
              "      <td>-2.577497</td>\n",
              "      <td>2.842817</td>\n",
              "    </tr>\n",
              "    <tr>\n",
              "      <th>4</th>\n",
              "      <td>PH</td>\n",
              "      <td>-0.707874</td>\n",
              "      <td>-0.882733</td>\n",
              "      <td>-0.638348</td>\n",
              "      <td>-0.469913</td>\n",
              "      <td>-0.332496</td>\n",
              "      <td>150000.0</td>\n",
              "      <td>-0.145451</td>\n",
              "      <td>-2.577497</td>\n",
              "      <td>2.842817</td>\n",
              "    </tr>\n",
              "    <tr>\n",
              "      <th>5</th>\n",
              "      <td>PH</td>\n",
              "      <td>-0.707874</td>\n",
              "      <td>-0.882733</td>\n",
              "      <td>-0.638348</td>\n",
              "      <td>-0.187853</td>\n",
              "      <td>0.057367</td>\n",
              "      <td>159500.0</td>\n",
              "      <td>-0.145451</td>\n",
              "      <td>-2.577497</td>\n",
              "      <td>2.842817</td>\n",
              "    </tr>\n",
              "    <tr>\n",
              "      <th>...</th>\n",
              "      <td>...</td>\n",
              "      <td>...</td>\n",
              "      <td>...</td>\n",
              "      <td>...</td>\n",
              "      <td>...</td>\n",
              "      <td>...</td>\n",
              "      <td>...</td>\n",
              "      <td>...</td>\n",
              "      <td>...</td>\n",
              "      <td>...</td>\n",
              "    </tr>\n",
              "    <tr>\n",
              "      <th>90652</th>\n",
              "      <td>Departamento</td>\n",
              "      <td>0.245634</td>\n",
              "      <td>0.236773</td>\n",
              "      <td>1.070583</td>\n",
              "      <td>0.053913</td>\n",
              "      <td>0.391534</td>\n",
              "      <td>475000.0</td>\n",
              "      <td>-0.145451</td>\n",
              "      <td>0.387973</td>\n",
              "      <td>-0.351764</td>\n",
              "    </tr>\n",
              "    <tr>\n",
              "      <th>90653</th>\n",
              "      <td>PH</td>\n",
              "      <td>0.245634</td>\n",
              "      <td>0.236773</td>\n",
              "      <td>-0.638348</td>\n",
              "      <td>0.094207</td>\n",
              "      <td>0.447229</td>\n",
              "      <td>178000.0</td>\n",
              "      <td>-0.145451</td>\n",
              "      <td>-2.577497</td>\n",
              "      <td>2.842817</td>\n",
              "    </tr>\n",
              "    <tr>\n",
              "      <th>90654</th>\n",
              "      <td>PH</td>\n",
              "      <td>2.152650</td>\n",
              "      <td>0.236773</td>\n",
              "      <td>1.070583</td>\n",
              "      <td>0.698622</td>\n",
              "      <td>0.753549</td>\n",
              "      <td>298000.0</td>\n",
              "      <td>-0.145451</td>\n",
              "      <td>-2.577497</td>\n",
              "      <td>2.842817</td>\n",
              "    </tr>\n",
              "    <tr>\n",
              "      <th>90659</th>\n",
              "      <td>PH</td>\n",
              "      <td>0.245634</td>\n",
              "      <td>0.236773</td>\n",
              "      <td>1.070583</td>\n",
              "      <td>1.303036</td>\n",
              "      <td>1.839593</td>\n",
              "      <td>480000.0</td>\n",
              "      <td>-0.145451</td>\n",
              "      <td>-2.577497</td>\n",
              "      <td>2.842817</td>\n",
              "    </tr>\n",
              "    <tr>\n",
              "      <th>90661</th>\n",
              "      <td>Departamento</td>\n",
              "      <td>0.245634</td>\n",
              "      <td>0.236773</td>\n",
              "      <td>1.070583</td>\n",
              "      <td>1.323183</td>\n",
              "      <td>2.145914</td>\n",
              "      <td>420000.0</td>\n",
              "      <td>-0.145451</td>\n",
              "      <td>0.387973</td>\n",
              "      <td>-0.351764</td>\n",
              "    </tr>\n",
              "  </tbody>\n",
              "</table>\n",
              "<p>81235 rows × 10 columns</p>\n",
              "</div>"
            ],
            "text/plain": [
              "      property_type     rooms  bedrooms  ...      Casa        PH  Departamento\n",
              "1                PH -0.707874 -0.882733  ... -0.145451 -2.577497      2.842817\n",
              "2                PH -0.707874 -0.882733  ... -0.145451 -2.577497      2.842817\n",
              "3                PH -0.707874 -0.882733  ... -0.145451 -2.577497      2.842817\n",
              "4                PH -0.707874 -0.882733  ... -0.145451 -2.577497      2.842817\n",
              "5                PH -0.707874 -0.882733  ... -0.145451 -2.577497      2.842817\n",
              "...             ...       ...       ...  ...       ...       ...           ...\n",
              "90652  Departamento  0.245634  0.236773  ... -0.145451  0.387973     -0.351764\n",
              "90653            PH  0.245634  0.236773  ... -0.145451 -2.577497      2.842817\n",
              "90654            PH  2.152650  0.236773  ... -0.145451 -2.577497      2.842817\n",
              "90659            PH  0.245634  0.236773  ... -0.145451 -2.577497      2.842817\n",
              "90661  Departamento  0.245634  0.236773  ... -0.145451  0.387973     -0.351764\n",
              "\n",
              "[81235 rows x 10 columns]"
            ]
          },
          "metadata": {
            "tags": []
          },
          "execution_count": 59
        }
      ]
    },
    {
      "cell_type": "markdown",
      "metadata": {
        "id": "iWka55gNSiXT"
      },
      "source": [
        "**Función para evaluar los modelos que vamos a trabajar**"
      ]
    },
    {
      "cell_type": "code",
      "metadata": {
        "id": "O0gpFQHDBJLx"
      },
      "source": [
        "def evaluar_regresion(model, X_train, X_test, y_train, y_test, scaler=False, lims=[-300000, 300000]):\n",
        "    y_predict_train= model.predict(X_train)\n",
        "    y_predict_test= model.predict(X_test)\n",
        "\n",
        "    # Calcula los errores\n",
        "    print('========================================================')\n",
        "    print('TRAIN:')\n",
        "    rmse_train= np.sqrt(mean_squared_error(y_train, y_predict_train))\n",
        "    print(f'RAIZ DEL ERROR CUADRÁTICO MEDIO:{round(rmse_train,2)}')\n",
        "    #print(f'ERROR CUADRÁTICO MEDIO: { mean_squared_error(y_train, y_predict_train).mean().round(2) }')\n",
        "    print(f'COEFICIENTE DE DETERMINACIÓN:{r2_score(y_train, y_predict_train).mean().round(2)}')\n",
        "    print('========================================================')\n",
        "    print('TEST:')\n",
        "    rmse_test= np.sqrt(mean_squared_error(y_test, y_predict_test))\n",
        "    print(f'RAIZ DEL ERROR CUADRÁTICO MEDIO:{round(rmse_test,2)}')\n",
        "    #print(f'ERROR CUADRÁTICO MEDIO: { mean_squared_error(y_test, y_predict_test).mean().round(2) }')\n",
        "    print(f'COEFICIENTE DE DETERMINACIÓN:{r2_score(y_test, y_predict_test).mean().round(2)}')\n",
        "    print('========================================================')"
      ],
      "execution_count": null,
      "outputs": []
    },
    {
      "cell_type": "markdown",
      "metadata": {
        "id": "dDQQHV-8BcTl"
      },
      "source": [
        "# **Entrenando el nuevo dataset **"
      ]
    },
    {
      "cell_type": "code",
      "metadata": {
        "id": "P69UIrenBiB-"
      },
      "source": [
        "X = filtro_copy[['rooms','bedrooms','bathrooms','surface_total','surface_covered','Casa','PH','Departamento']]\n",
        "y = filtro_copy.price"
      ],
      "execution_count": null,
      "outputs": []
    },
    {
      "cell_type": "code",
      "metadata": {
        "colab": {
          "base_uri": "https://localhost:8080/"
        },
        "id": "oef-HNu8BjXK",
        "outputId": "10cb97af-33c6-4c7a-a075-d1c2aa77c11a"
      },
      "source": [
        "X_train, X_test, y_train, y_test = train_test_split(\n",
        "    X, y, test_size=0.30, random_state=42)\n",
        "\n",
        "print(X_train.shape, y_train.shape, X_test.shape, y_test.shape)"
      ],
      "execution_count": null,
      "outputs": [
        {
          "output_type": "stream",
          "text": [
            "(56864, 8) (56864,) (24371, 8) (24371,)\n"
          ],
          "name": "stdout"
        }
      ]
    },
    {
      "cell_type": "code",
      "metadata": {
        "colab": {
          "base_uri": "https://localhost:8080/"
        },
        "id": "9XS_RufhBk_U",
        "outputId": "5b531610-ae1b-4484-a4df-d0f557de9eae"
      },
      "source": [
        "linear_model = LinearRegression()\n",
        "tree_regressor = DecisionTreeRegressor(max_depth=2, random_state=42)\n",
        "knn_regressor = KNeighborsRegressor(n_neighbors=10)\n",
        "\n",
        "knn_regressor.fit(X_train, y_train)\n",
        "linear_model.fit(X_train, y_train)\n",
        "tree_regressor.fit(X_train, y_train)"
      ],
      "execution_count": null,
      "outputs": [
        {
          "output_type": "execute_result",
          "data": {
            "text/plain": [
              "DecisionTreeRegressor(ccp_alpha=0.0, criterion='mse', max_depth=2,\n",
              "                      max_features=None, max_leaf_nodes=None,\n",
              "                      min_impurity_decrease=0.0, min_impurity_split=None,\n",
              "                      min_samples_leaf=1, min_samples_split=2,\n",
              "                      min_weight_fraction_leaf=0.0, presort='deprecated',\n",
              "                      random_state=42, splitter='best')"
            ]
          },
          "metadata": {
            "tags": []
          },
          "execution_count": 58
        }
      ]
    },
    {
      "cell_type": "code",
      "metadata": {
        "colab": {
          "base_uri": "https://localhost:8080/"
        },
        "id": "57GqBwBqBnLb",
        "outputId": "3f2fae92-dbdd-42da-9a87-6c7db23938e2"
      },
      "source": [
        "linear_model.score(X_test, y_test)\n",
        "tree_regressor.score(X_test, y_test)\n",
        "knn_regressor.score(X_test, y_test)"
      ],
      "execution_count": null,
      "outputs": [
        {
          "output_type": "execute_result",
          "data": {
            "text/plain": [
              "0.7289117917480255"
            ]
          },
          "metadata": {
            "tags": []
          },
          "execution_count": 59
        }
      ]
    },
    {
      "cell_type": "code",
      "metadata": {
        "colab": {
          "base_uri": "https://localhost:8080/"
        },
        "id": "AWjFx0TpBpL9",
        "outputId": "91f48d6a-a234-4d60-f539-28e3e4aaddca"
      },
      "source": [
        "linear_model.score(X_train, y_train)\n",
        "tree_regressor.score(X_train, y_train)\n",
        "knn_regressor.score(X_train, y_train)"
      ],
      "execution_count": null,
      "outputs": [
        {
          "output_type": "execute_result",
          "data": {
            "text/plain": [
              "0.7576294930918103"
            ]
          },
          "metadata": {
            "tags": []
          },
          "execution_count": 60
        }
      ]
    },
    {
      "cell_type": "code",
      "metadata": {
        "colab": {
          "base_uri": "https://localhost:8080/",
          "height": 1000
        },
        "id": "wU7prn28BsMB",
        "outputId": "cab4c9c3-2de6-40ef-8647-bd4af2d3b99a"
      },
      "source": [
        "from sklearn.metrics import mean_squared_error\n",
        "modelos = ['Regresión lineal', 'Árbol de Decisión','Vecinos más cercanos']\n",
        "\n",
        "for i, model in enumerate([linear_model, tree_regressor, knn_regressor]):\n",
        "    y_train_pred = model.predict(X_train)\n",
        "    y_test_pred = model.predict(X_test)\n",
        "    \n",
        "    \n",
        "    print(f'Modelo: {modelos[i]}')\n",
        "\n",
        "    rmse_train = np.sqrt(mean_squared_error(y_train, y_train_pred))\n",
        "    rmse_test = np.sqrt(mean_squared_error(y_test, y_test_pred))\n",
        "    print(f'Raíz del error cuadrático medio en Train: {rmse_train}')\n",
        "    print(f'Raíz del error cuadrático medio en Test: {rmse_test}')\n",
        "    \n",
        "    plt.figure(figsize = (16,6))\n",
        "\n",
        "    plt.subplot(1,2,1)\n",
        "    sns.distplot(y_train - y_train_pred, bins = 20, label = 'train')\n",
        "    sns.distplot(y_test - y_test_pred, bins = 20, label = 'test')\n",
        "    plt.xlabel('errores')\n",
        "    plt.legend()\n",
        "    \n",
        "    ax = plt.subplot(1,2,2)\n",
        "    ax.scatter(y_test,y_test_pred, s =2)\n",
        "    \n",
        "    lims = [\n",
        "    np.min([ax.get_xlim(), ax.get_ylim()]),  # min of both axes\n",
        "    np.max([ax.get_xlim(), ax.get_ylim()]),  # max of both axes]\n",
        "    ]\n",
        "    \n",
        "    ax.plot(lims, lims, 'k-', alpha=0.75, zorder=0)\n",
        "    plt.xlabel('y (test)')\n",
        "    plt.ylabel('y_pred (test)')\n",
        "\n",
        "    plt.tight_layout()\n",
        "    plt.show()"
      ],
      "execution_count": null,
      "outputs": [
        {
          "output_type": "stream",
          "text": [
            "Modelo: Regresión lineal\n",
            "Raíz del error cuadrático medio en Train: 63319.40249018407\n",
            "Raíz del error cuadrático medio en Test: 62709.939708246886\n"
          ],
          "name": "stdout"
        },
        {
          "output_type": "stream",
          "text": [
            "/usr/local/lib/python3.7/dist-packages/seaborn/distributions.py:2557: FutureWarning: `distplot` is a deprecated function and will be removed in a future version. Please adapt your code to use either `displot` (a figure-level function with similar flexibility) or `histplot` (an axes-level function for histograms).\n",
            "  warnings.warn(msg, FutureWarning)\n",
            "/usr/local/lib/python3.7/dist-packages/seaborn/distributions.py:2557: FutureWarning: `distplot` is a deprecated function and will be removed in a future version. Please adapt your code to use either `displot` (a figure-level function with similar flexibility) or `histplot` (an axes-level function for histograms).\n",
            "  warnings.warn(msg, FutureWarning)\n"
          ],
          "name": "stderr"
        },
        {
          "output_type": "display_data",
          "data": {
            "image/png": "[encoded data removed]",
            "text/plain": [
              "<Figure size 1152x432 with 2 Axes>"
            ]
          },
          "metadata": {
            "tags": [],
            "needs_background": "light"
          }
        },
        {
          "output_type": "stream",
          "text": [
            "Modelo: Árbol de Decisión\n",
            "Raíz del error cuadrático medio en Train: 66628.6734880993\n",
            "Raíz del error cuadrático medio en Test: 66438.2897967484\n"
          ],
          "name": "stdout"
        },
        {
          "output_type": "stream",
          "text": [
            "/usr/local/lib/python3.7/dist-packages/seaborn/distributions.py:2557: FutureWarning: `distplot` is a deprecated function and will be removed in a future version. Please adapt your code to use either `displot` (a figure-level function with similar flexibility) or `histplot` (an axes-level function for histograms).\n",
            "  warnings.warn(msg, FutureWarning)\n",
            "/usr/local/lib/python3.7/dist-packages/seaborn/distributions.py:2557: FutureWarning: `distplot` is a deprecated function and will be removed in a future version. Please adapt your code to use either `displot` (a figure-level function with similar flexibility) or `histplot` (an axes-level function for histograms).\n",
            "  warnings.warn(msg, FutureWarning)\n"
          ],
          "name": "stderr"
        },
        {
          "output_type": "display_data",
          "data": {
            "image/png": "[encoded data removed]",
            "text/plain": [
              "<Figure size 1152x432 with 2 Axes>"
            ]
          },
          "metadata": {
            "tags": [],
            "needs_background": "light"
          }
        },
        {
          "output_type": "stream",
          "text": [
            "Modelo: Vecinos más cercanos\n",
            "Raíz del error cuadrático medio en Train: 47465.611570261775\n",
            "Raíz del error cuadrático medio en Test: 50661.59320592167\n"
          ],
          "name": "stdout"
        },
        {
          "output_type": "stream",
          "text": [
            "/usr/local/lib/python3.7/dist-packages/seaborn/distributions.py:2557: FutureWarning: `distplot` is a deprecated function and will be removed in a future version. Please adapt your code to use either `displot` (a figure-level function with similar flexibility) or `histplot` (an axes-level function for histograms).\n",
            "  warnings.warn(msg, FutureWarning)\n",
            "/usr/local/lib/python3.7/dist-packages/seaborn/distributions.py:2557: FutureWarning: `distplot` is a deprecated function and will be removed in a future version. Please adapt your code to use either `displot` (a figure-level function with similar flexibility) or `histplot` (an axes-level function for histograms).\n",
            "  warnings.warn(msg, FutureWarning)\n"
          ],
          "name": "stderr"
        },
        {
          "output_type": "display_data",
          "data": {
            "image/png": "[encoded data removed]",
            "text/plain": [
              "<Figure size 1152x432 with 2 Axes>"
            ]
          },
          "metadata": {
            "tags": [],
            "needs_background": "light"
          }
        }
      ]
    },
    {
      "cell_type": "markdown",
      "metadata": {
        "id": "7G35lfE_Ynqg"
      },
      "source": [
        "Luego de entrenar los modelos del proyecto 1 con el dataset una vez realizado el trabajo de preprocesamiento, podemos observar que el resultado mejora considerablemente reduciendo el error en una buena cantidad respecto a los resultados obtenidos anteriormente.\n",
        "\n",
        "Ahora vamos a pasar a la segunda parte del proyecto para trabajar el dataset con modelos avanzados de machine learning."
      ]
    },
    {
      "cell_type": "markdown",
      "metadata": {
        "id": "5E1x4rE_G9rc"
      },
      "source": [
        "# **PARTE B - Modelos Avanzados**"
      ]
    },
    {
      "cell_type": "markdown",
      "metadata": {
        "id": "pCKLo80YHAiV"
      },
      "source": [
        "***XGBoost: Extreme Gradient Boosting***"
      ]
    },
    {
      "cell_type": "markdown",
      "metadata": {
        "id": "i02XrAQEg_Wq"
      },
      "source": [
        "Voy a definir el modelo y a establecer una grilla de parámetros para, a su vez, a través del método random buscar con que parámetros encontramos mejor rendimiento. "
      ]
    },
    {
      "cell_type": "code",
      "metadata": {
        "id": "MSlrpBovHB5_"
      },
      "source": [
        "# model = xgb.XGBClassifier(n_estimators=100, max_depth=2, learning_rate=0.2, use_label_encoder= False)\n",
        "#model = xgb.XGBRegressor(n_estimators=100, max_depth=2, learning_rate=0.2)\n",
        "#model = xgb.XGBRegressor(n_estimators=100, max_depth=50, learning_rate=0.2,min_samples_split=12)\n",
        "xgb_reg = xgb.XGBRegressor()"
      ],
      "execution_count": null,
      "outputs": []
    },
    {
      "cell_type": "code",
      "metadata": {
        "id": "ATA7v9MoWI4o"
      },
      "source": [
        "model_xgb = xgb.XGBRegressor(n_estimators=1100, max_depth=5, learning_rate=0.1,min_samples_leaf =3 )"
      ],
      "execution_count": null,
      "outputs": []
    },
    {
      "cell_type": "code",
      "metadata": {
        "colab": {
          "base_uri": "https://localhost:8080/"
        },
        "id": "r_yN-A7RWTLQ",
        "outputId": "b3b8ef60-4d11-48b9-a7d6-9739568113c8"
      },
      "source": [
        "model_xgb.fit(X_train, y_train)"
      ],
      "execution_count": null,
      "outputs": [
        {
          "output_type": "stream",
          "text": [
            "[18:34:06] WARNING: /workspace/src/objective/regression_obj.cu:152: reg:linear is now deprecated in favor of reg:squarederror.\n"
          ],
          "name": "stdout"
        },
        {
          "output_type": "execute_result",
          "data": {
            "text/plain": [
              "XGBRegressor(base_score=0.5, booster='gbtree', colsample_bylevel=1,\n",
              "             colsample_bynode=1, colsample_bytree=1, gamma=0,\n",
              "             importance_type='gain', learning_rate=0.1, max_delta_step=0,\n",
              "             max_depth=5, min_child_weight=1, min_samples_leaf=3, missing=None,\n",
              "             n_estimators=1100, n_jobs=1, nthread=None, objective='reg:linear',\n",
              "             random_state=0, reg_alpha=0, reg_lambda=1, scale_pos_weight=1,\n",
              "             seed=None, silent=None, subsample=1, verbosity=1)"
            ]
          },
          "metadata": {
            "tags": []
          },
          "execution_count": 73
        }
      ]
    },
    {
      "cell_type": "code",
      "metadata": {
        "colab": {
          "base_uri": "https://localhost:8080/"
        },
        "id": "aFKE7Rk6XCRw",
        "outputId": "4b658df5-2325-42da-9b33-3b4e96a43742"
      },
      "source": [
        "y_train_pred = model_xgb.predict(X_train)\n",
        "y_test_pred = model_xgb.predict(X_test)\n",
        "\n",
        "rmse_train = np.sqrt(mean_squared_error(y_train, y_train_pred))\n",
        "rmse_test = np.sqrt(mean_squared_error(y_test, y_test_pred))\n",
        "r2_score_train = r2_score(y_train, y_train_pred)\n",
        "r2_score_test = r2_score(y_test, y_test_pred)\n",
        "\n",
        "print(\"RMSE Train: %f\"%(rmse_train))\n",
        "print(\"RMSE Test: %f\"%(rmse_test))\n",
        "print(\"Coeficiente de determinación Train: %f\"%(r2_score_train))\n",
        "print(\"Coeficiente de determinación Test: %f\"%(r2_score_test))"
      ],
      "execution_count": null,
      "outputs": [
        {
          "output_type": "stream",
          "text": [
            "RMSE Train: 44398.984861\n",
            "RMSE Test: 48633.367210\n",
            "Coeficiente de determinación Train: 0.787936\n",
            "Coeficiente de determinación Test: 0.750183\n"
          ],
          "name": "stdout"
        }
      ]
    },
    {
      "cell_type": "code",
      "metadata": {
        "colab": {
          "base_uri": "https://localhost:8080/",
          "height": 529
        },
        "id": "FVuXZe6A8jv8",
        "outputId": "a39e808d-c5a3-49d7-ca43-f6c7132caad0"
      },
      "source": [
        "plt.figure(figsize = (16,6))\n",
        "\n",
        "plt.subplot(1,2,1)\n",
        "sns.distplot(y_train - y_train_pred, bins = 20, label = 'train')\n",
        "sns.distplot(y_test - y_test_pred, bins = 20, label = 'test')\n",
        "plt.xlabel('errores')\n",
        "plt.title('Distribución de Errores')\n",
        "plt.legend()\n",
        "    \n",
        "ax = plt.subplot(1,2,2)\n",
        "ax.scatter(y_test,y_test_pred, s =2)\n",
        "    \n",
        "lims = [\n",
        "np.min([ax.get_xlim(), ax.get_ylim()]),  # min of both axes\n",
        "np.max([ax.get_xlim(), ax.get_ylim()]),  # max of both axes]\n",
        "]\n",
        "    \n",
        "ax.plot(lims, lims, 'k-', alpha=0.75, zorder=0)\n",
        "plt.xlabel('y (test)')\n",
        "plt.ylabel('y_pred (test)')\n",
        "plt.title('Valores reales vs Valores predichos')\n",
        "\n",
        "plt.tight_layout()\n",
        "plt.show()"
      ],
      "execution_count": null,
      "outputs": [
        {
          "output_type": "stream",
          "text": [
            "/usr/local/lib/python3.7/dist-packages/seaborn/distributions.py:2557: FutureWarning: `distplot` is a deprecated function and will be removed in a future version. Please adapt your code to use either `displot` (a figure-level function with similar flexibility) or `histplot` (an axes-level function for histograms).\n",
            "  warnings.warn(msg, FutureWarning)\n",
            "/usr/local/lib/python3.7/dist-packages/seaborn/distributions.py:2557: FutureWarning: `distplot` is a deprecated function and will be removed in a future version. Please adapt your code to use either `displot` (a figure-level function with similar flexibility) or `histplot` (an axes-level function for histograms).\n",
            "  warnings.warn(msg, FutureWarning)\n"
          ],
          "name": "stderr"
        },
        {
          "output_type": "display_data",
          "data": {
            "image/png": "[encoded data removed]",
            "text/plain": [
              "<Figure size 1152x432 with 2 Axes>"
            ]
          },
          "metadata": {
            "tags": [],
            "needs_background": "light"
          }
        }
      ]
    },
    {
      "cell_type": "markdown",
      "metadata": {
        "id": "qMs035CuiHkb"
      },
      "source": [
        "A considerar por los resultados y como se puede observar en las gráficas del modelo, para precios bajos predice dentro de lo esperado siendo que la dificultad en el modelo está para predecir valores altos, el mismo lo realiza por debajo del valor real.\n",
        "\n",
        "En cuanto a la distribución de los errores en la gráfica podemos observar que la tendencia es simétrica, dando la forma de campana lo cual es una buena señal de que la predicción es buena, ya que además la vemos centrada sobre el 0. Entonces podemos asumir que los errores son parejos (tanto en lo positivo como los negativos), el modelo no tiende a siempre sobreestimando o siempre subestimando. Se equivoca parejo.\n",
        "Vemos que las curvas de train y test son parejas, el modelo se equivoca también parejo en el entrenamiento y en el test. El modelo generaliza acorde a lo que sabe."
      ]
    },
    {
      "cell_type": "code",
      "metadata": {
        "colab": {
          "base_uri": "https://localhost:8080/"
        },
        "id": "yjwPuPjRcuoe",
        "outputId": "1ad57185-fa8f-4d6c-a65b-7d0a7912923d"
      },
      "source": [
        "model_xgb.feature_importances_"
      ],
      "execution_count": null,
      "outputs": [
        {
          "output_type": "execute_result",
          "data": {
            "text/plain": [
              "array([0.04424505, 0.05163619, 0.27119467, 0.193354  , 0.20083135,\n",
              "       0.02086315, 0.13596576, 0.08190977], dtype=float32)"
            ]
          },
          "metadata": {
            "tags": []
          },
          "execution_count": 75
        }
      ]
    },
    {
      "cell_type": "code",
      "metadata": {
        "colab": {
          "base_uri": "https://localhost:8080/",
          "height": 554
        },
        "id": "HVM2Ras5dNCp",
        "outputId": "ea6aec4e-e7f4-47e2-b724-44c37a57c121"
      },
      "source": [
        "importances = model_xgb.feature_importances_\n",
        "columns = X_train.columns\n",
        "indices = np.argsort(importances)[::-1]\n",
        "\n",
        "plt.figure(figsize=(15,8))\n",
        "sns.barplot(columns[indices], importances[indices])\n",
        "plt.title('Feature importances')\n",
        "plt.show()"
      ],
      "execution_count": null,
      "outputs": [
        {
          "output_type": "stream",
          "text": [
            "/usr/local/lib/python3.7/dist-packages/seaborn/_decorators.py:43: FutureWarning: Pass the following variables as keyword args: x, y. From version 0.12, the only valid positional argument will be `data`, and passing other arguments without an explicit keyword will result in an error or misinterpretation.\n",
            "  FutureWarning\n"
          ],
          "name": "stderr"
        },
        {
          "output_type": "display_data",
          "data": {
            "image/png": "[encoded data removed]",
            "text/plain": [
              "<Figure size 1080x576 with 1 Axes>"
            ]
          },
          "metadata": {
            "tags": [],
            "needs_background": "light"
          }
        }
      ]
    },
    {
      "cell_type": "markdown",
      "metadata": {
        "id": "TQyIszgi3kyh"
      },
      "source": [
        "El modelo está tomando, llamativamente, como mayor importancia para predecir los precios la variable bathrooms. Como se vio en el proyecto 1, en el mapa de correlación, podría ser un indicador de la cantidad de rooms dada su correlación con esta última variable.\n",
        "Siguiendo en importancia está surface (tanto covered como total). Quiere decir que al momento de valuar una propiedad, estas serán las variables más preponderantes de nuestro modelo para predecir. \n",
        "En parte se vieron beneficiadas por ser de las tratadas en el preprocesamiento cuando imputamos cuidadosamente valores faltantes. \n",
        "Vemos que el modelo también está teniendo en cuenta que tipo de propiedad es (como vemos en la importancia que le da a PH y Departamento, seguido por casa un poco más atrás)."
      ]
    },
    {
      "cell_type": "markdown",
      "metadata": {
        "id": "yqyQNkW2_Oto"
      },
      "source": [
        "El modelo mejora considerablemente los resultados obtenidos en el proyecto 1. De todas maneras se observa un leve sobreajuste aunque hasta el momento es el modelo de mejor rendimiento."
      ]
    },
    {
      "cell_type": "markdown",
      "metadata": {
        "id": "EiJyE47r-YbA"
      },
      "source": [
        "# **Hiperparametros XGBoost**"
      ]
    },
    {
      "cell_type": "code",
      "metadata": {
        "id": "4zv-v3ffHDgZ"
      },
      "source": [
        "n_estimators = [100,500,900,1100,1500]\n",
        "max_depth = [1,2,3,4,5]\n",
        "booster = ['gblinear']\n",
        "learning_rate = [0.5,0.1,0.01,0.005]\n",
        "min_samples_leaf = [1,2,3,4]\n",
        "#min_child_weight = [1,2,3,4]\n",
        "\n",
        "param_grid = {'n_estimators': n_estimators,\n",
        "              'max_depth': max_depth,\n",
        "              'learning_rate': learning_rate,\n",
        "              'min_samples_leaf': min_samples_leaf}\n",
        "\n",
        "#             'min_child_weight': min_child_weight"
      ],
      "execution_count": null,
      "outputs": []
    },
    {
      "cell_type": "code",
      "metadata": {
        "colab": {
          "base_uri": "https://localhost:8080/"
        },
        "id": "cJZyEphtHEuj",
        "outputId": "a87bd611-bc9b-4fdc-b067-20981daed6c0"
      },
      "source": [
        "modelo = RandomizedSearchCV(xgb_reg, param_grid,n_iter=100 ,verbose=2,cv=4,random_state=42, n_jobs=-1)\n",
        "modelo.fit(X_train, y_train)"
      ],
      "execution_count": null,
      "outputs": [
        {
          "output_type": "stream",
          "text": [
            "Fitting 4 folds for each of 100 candidates, totalling 400 fits\n"
          ],
          "name": "stdout"
        },
        {
          "output_type": "stream",
          "text": [
            "[Parallel(n_jobs=-1)]: Using backend LokyBackend with 2 concurrent workers.\n",
            "[Parallel(n_jobs=-1)]: Done  37 tasks      | elapsed:  8.8min\n",
            "[Parallel(n_jobs=-1)]: Done 158 tasks      | elapsed: 26.1min\n",
            "[Parallel(n_jobs=-1)]: Done 361 tasks      | elapsed: 61.8min\n",
            "[Parallel(n_jobs=-1)]: Done 400 out of 400 | elapsed: 66.0min finished\n"
          ],
          "name": "stderr"
        },
        {
          "output_type": "stream",
          "text": [
            "[18:00:51] WARNING: /workspace/src/objective/regression_obj.cu:152: reg:linear is now deprecated in favor of reg:squarederror.\n"
          ],
          "name": "stdout"
        },
        {
          "output_type": "execute_result",
          "data": {
            "text/plain": [
              "RandomizedSearchCV(cv=4, error_score=nan,\n",
              "                   estimator=XGBRegressor(base_score=0.5, booster='gbtree',\n",
              "                                          colsample_bylevel=1,\n",
              "                                          colsample_bynode=1,\n",
              "                                          colsample_bytree=1, gamma=0,\n",
              "                                          importance_type='gain',\n",
              "                                          learning_rate=0.1, max_delta_step=0,\n",
              "                                          max_depth=3, min_child_weight=1,\n",
              "                                          missing=None, n_estimators=100,\n",
              "                                          n_jobs=1, nthread=None,\n",
              "                                          objective='reg:linear',\n",
              "                                          random_state=0, reg_alpha=0,\n",
              "                                          reg_lambda=1, scale_pos_weight=1,\n",
              "                                          seed=None, silent=None, subsample=1,\n",
              "                                          verbosity=1),\n",
              "                   iid='deprecated', n_iter=100, n_jobs=-1,\n",
              "                   param_distributions={'learning_rate': [0.5, 0.1, 0.01,\n",
              "                                                          0.005],\n",
              "                                        'max_depth': [1, 2, 3, 4, 5],\n",
              "                                        'min_samples_leaf': [1, 2, 3, 4],\n",
              "                                        'n_estimators': [100, 500, 900, 1100,\n",
              "                                                         1500]},\n",
              "                   pre_dispatch='2*n_jobs', random_state=42, refit=True,\n",
              "                   return_train_score=False, scoring=None, verbose=2)"
            ]
          },
          "metadata": {
            "tags": []
          },
          "execution_count": 167
        }
      ]
    },
    {
      "cell_type": "code",
      "metadata": {
        "id": "ZUp8PSlFHGFZ",
        "colab": {
          "base_uri": "https://localhost:8080/"
        },
        "outputId": "a03156cb-7431-467d-e1d3-29a17f5bc4fd"
      },
      "source": [
        "print(\"Mejores parametros: \"+str(modelo.best_params_))\n",
        "print(\"Mejor Score: \"+str(modelo.best_score_)+'\\n')"
      ],
      "execution_count": null,
      "outputs": [
        {
          "output_type": "stream",
          "text": [
            "Mejores parametros: {'n_estimators': 900, 'min_samples_leaf': 1, 'max_depth': 5, 'learning_rate': 0.5}\n",
            "Mejor Score: 0.7366504145895759\n",
            "\n"
          ],
          "name": "stdout"
        }
      ]
    },
    {
      "cell_type": "code",
      "metadata": {
        "id": "5Ddy_kQHHH41"
      },
      "source": [
        "modelo = xgb.XGBRegressor(n_estimators=900, max_depth=5, learning_rate=0.5,min_samples_leaf =1 )"
      ],
      "execution_count": null,
      "outputs": []
    },
    {
      "cell_type": "code",
      "metadata": {
        "id": "wjMFDjEmHI7O",
        "colab": {
          "base_uri": "https://localhost:8080/"
        },
        "outputId": "ac15a8c9-76f6-4a9b-de8c-ee3eda20c2b3"
      },
      "source": [
        "modelo.fit(X_train, y_train)"
      ],
      "execution_count": null,
      "outputs": [
        {
          "output_type": "stream",
          "text": [
            "[18:05:35] WARNING: /workspace/src/objective/regression_obj.cu:152: reg:linear is now deprecated in favor of reg:squarederror.\n"
          ],
          "name": "stdout"
        },
        {
          "output_type": "execute_result",
          "data": {
            "text/plain": [
              "XGBRegressor(base_score=0.5, booster='gbtree', colsample_bylevel=1,\n",
              "             colsample_bynode=1, colsample_bytree=1, gamma=0,\n",
              "             importance_type='gain', learning_rate=0.5, max_delta_step=0,\n",
              "             max_depth=5, min_child_weight=1, min_samples_leaf=1, missing=None,\n",
              "             n_estimators=900, n_jobs=1, nthread=None, objective='reg:linear',\n",
              "             random_state=0, reg_alpha=0, reg_lambda=1, scale_pos_weight=1,\n",
              "             seed=None, silent=None, subsample=1, verbosity=1)"
            ]
          },
          "metadata": {
            "tags": []
          },
          "execution_count": 173
        }
      ]
    },
    {
      "cell_type": "code",
      "metadata": {
        "id": "FW98IHYFHL3P",
        "colab": {
          "base_uri": "https://localhost:8080/"
        },
        "outputId": "6d58144c-19e1-41c1-892e-0b4e8c42f58c"
      },
      "source": [
        "y_train_pred_modelo = modelo.predict(X_train)\n",
        "y_test_pred_modelo = modelo.predict(X_test)\n",
        "\n",
        "rmse_train_mod = np.sqrt(mean_squared_error(y_train, y_train_pred_modelo))\n",
        "rmse_test_mod = np.sqrt(mean_squared_error(y_test, y_test_pred_modelo))\n",
        "r2_score_train_mod = r2_score(y_train, y_train_pred_modelo)\n",
        "r2_score_test_mod = r2_score(y_test, y_test_pred_modelo)\n",
        "\n",
        "print(\"RMSE Train: %f\"%(rmse_train_mod))\n",
        "print(\"RMSE Test: %f\"%(rmse_test_mod))\n",
        "print(\"Coeficiente de determinación Train: %f\"%(r2_score_train_mod))\n",
        "print(\"Coeficiente de determinación Test: %f\"%(r2_score_test_mod))"
      ],
      "execution_count": null,
      "outputs": [
        {
          "output_type": "stream",
          "text": [
            "RMSE Train: 38829.107603\n",
            "RMSE Test: 48053.054411\n",
            "Coeficiente de determinación Train: 0.837805\n",
            "Coeficiente de determinación Test: 0.756109\n"
          ],
          "name": "stdout"
        }
      ]
    },
    {
      "cell_type": "code",
      "metadata": {
        "id": "TCLCVAmWHQ8x",
        "colab": {
          "base_uri": "https://localhost:8080/"
        },
        "outputId": "75375a76-a465-4084-d568-b683195f87cd"
      },
      "source": [
        "model.feature_importances_"
      ],
      "execution_count": null,
      "outputs": [
        {
          "output_type": "execute_result",
          "data": {
            "text/plain": [
              "array([0.04932548, 0.07724364, 0.25736904, 0.12320615, 0.2478637 ,\n",
              "       0.02413572, 0.14279765, 0.07805872], dtype=float32)"
            ]
          },
          "metadata": {
            "tags": []
          },
          "execution_count": 178
        }
      ]
    },
    {
      "cell_type": "markdown",
      "metadata": {
        "id": "pJD-_jP6-flE"
      },
      "source": [
        "Los resultados obtenidos para mi gusto no son mejores que el primer modelo de XGBoost, ya que si bien mejora el error en Train, el modelo tiende al overfitting en mayor proporción que el modelo inicial sin los hiperparámetros."
      ]
    },
    {
      "cell_type": "markdown",
      "metadata": {
        "id": "s82ZzHTbHWKp"
      },
      "source": [
        "***PolynomialFeatures***"
      ]
    },
    {
      "cell_type": "markdown",
      "metadata": {
        "id": "BtVd3EsSk3V6"
      },
      "source": [
        "Voy a empezar este modelo generando atributos polinómicos y luego evaluar los distintos modelos de regresión: ***LinearRegression***, ***Ridge*** y ***Lasso***. Estos últimos dos pertenecen al proceso de regularización.\n",
        "\n",
        "Voy a generar un modelo Polynomialfeatures y a través de la validación cruzada evaluar la regresión lineal utilizando el grado 2."
      ]
    },
    {
      "cell_type": "code",
      "metadata": {
        "id": "8rjdLVC5HX4R"
      },
      "source": [
        "X_train, X_test, y_train, y_test = train_test_split(X_train, y_train, test_size=0.30, random_state=42)"
      ],
      "execution_count": null,
      "outputs": []
    },
    {
      "cell_type": "code",
      "metadata": {
        "id": "Aad28LtAHZk7"
      },
      "source": [
        "polynomial = PolynomialFeatures(degree = 2, include_bias= False)\n",
        "X_polynomial = polynomial.fit_transform(X_train)"
      ],
      "execution_count": null,
      "outputs": []
    },
    {
      "cell_type": "code",
      "metadata": {
        "id": "qt9C6luEHcJg",
        "colab": {
          "base_uri": "https://localhost:8080/"
        },
        "outputId": "cc6aae8c-b2f7-47cf-9ea8-b13cd00b1274"
      },
      "source": [
        "print('--------------------------------------------------------')\n",
        "print('PolynomialFeatures: LinearRegression')\n",
        "print('--------------------------------------------------------')\n",
        "rmse = cross_val_score(LinearRegression(n_jobs=-1), X_train, y_train, cv=9, scoring='neg_root_mean_squared_error', n_jobs=-1)\n",
        "print(f'RAÍZ DEL ERROR CUADRÁTICO MEDIO: {-rmse.mean().round(2)} (+/- {rmse.std().round(2)})')\n",
        "mse= cross_val_score(LinearRegression(n_jobs=-1), X_train,y_train, cv=9, scoring='neg_mean_squared_error', n_jobs=-1)\n",
        "print(f'ERROR CUADRÁTICO MEDIO: {-mse.mean().round(2)} (+/- {mse.std().round(2)})')\n",
        "r2= cross_val_score(LinearRegression(n_jobs=-1), X_train,y_train, cv=9, scoring='r2', n_jobs=-1)\n",
        "print(f'COEFICIENTE DE DETERMINACIÓN: {r2.mean().round(2)}\\n')\n",
        "\n",
        "model = LinearRegression()\n",
        "model.fit(X_train,y_train)\n",
        "evaluar_regresion(model, X_train,X_test, y_train, y_test)"
      ],
      "execution_count": null,
      "outputs": [
        {
          "output_type": "stream",
          "text": [
            "--------------------------------------------------------\n",
            "PolynomialFeatures: LinearRegression\n",
            "--------------------------------------------------------\n",
            "RAÍZ DEL ERROR CUADRÁTICO MEDIO: 63052.53 (+/- 938.54)\n",
            "ERROR CUADRÁTICO MEDIO: 3976501828.08 (+/- 118347278.47)\n",
            "COEFICIENTE DE DETERMINACIÓN: 0.57\n",
            "\n",
            "========================================================\n",
            "TRAIN:\n",
            "RAIZ DEL ERROR CUADRÁTICO MEDIO:62999.06\n",
            "COEFICIENTE DE DETERMINACIÓN:0.57\n",
            "========================================================\n",
            "TEST:\n",
            "RAIZ DEL ERROR CUADRÁTICO MEDIO:64142.09\n",
            "COEFICIENTE DE DETERMINACIÓN:0.56\n",
            "========================================================\n"
          ],
          "name": "stdout"
        }
      ]
    },
    {
      "cell_type": "markdown",
      "metadata": {
        "id": "dLVeIYWlnfvr"
      },
      "source": [
        "El modelo LinearRegression mejora muy levemente el resultado respecto del modelo realizado en el proyecto 1. Vamos a ver si podemos mejorar el rendimiento a través del proceso de Regularización."
      ]
    },
    {
      "cell_type": "markdown",
      "metadata": {
        "id": "SUsdCy0wHeWv"
      },
      "source": [
        "# ***Regularización ***"
      ]
    },
    {
      "cell_type": "markdown",
      "metadata": {
        "id": "W5p8tLnaHgcr"
      },
      "source": [
        "***Ridge***"
      ]
    },
    {
      "cell_type": "markdown",
      "metadata": {
        "id": "yGnOEhKnoy7L"
      },
      "source": [
        "Aplico regularización Ridge con valores por defecto a los atributos polinómicos que obtuvimos unos pasos atrás."
      ]
    },
    {
      "cell_type": "code",
      "metadata": {
        "id": "Y0pZI6edHj5R",
        "colab": {
          "base_uri": "https://localhost:8080/"
        },
        "outputId": "ec19bd9a-9767-4d98-f38a-ef03c4b60703"
      },
      "source": [
        "ridge= Ridge(random_state=5)\n",
        "ridge.fit(X_train, y_train)\n",
        "\n",
        "print('--------------------------------------------------------')\n",
        "print('PolynomialFeatures: Ridge')\n",
        "print('--------------------------------------------------------')\n",
        "rmse = cross_val_score(ridge, X_train, y_train, cv=9, scoring='neg_root_mean_squared_error', n_jobs=-1)\n",
        "print(f'RAÍZ DEL ERROR CUADRÁTICO MEDIO: {-rmse.mean().round(2)} (+/- {rmse.std().round(2)})')\n",
        "mse= cross_val_score(ridge, X_train,y_train, cv=9, scoring='neg_mean_squared_error', n_jobs=-1)\n",
        "print(f'ERROR CUADRÁTICO MEDIO: {-mse.mean().round(2)} (+/- {mse.std().round(2)})')\n",
        "r2= cross_val_score(ridge, X_train,y_train, cv=9, scoring='r2', n_jobs=-1)\n",
        "print(f'COEFICIENTE DE DETERMINACIÓN: {r2.mean().round(2)}\\n')\n",
        "\n",
        "evaluar_regresion(ridge,X_train, X_test, y_train, y_test)"
      ],
      "execution_count": null,
      "outputs": [
        {
          "output_type": "stream",
          "text": [
            "--------------------------------------------------------\n",
            "PolynomialFeatures: Ridge\n",
            "--------------------------------------------------------\n",
            "RAÍZ DEL ERROR CUADRÁTICO MEDIO: 63051.43 (+/- 937.27)\n",
            "ERROR CUADRÁTICO MEDIO: 3976361457.59 (+/- 118186119.32)\n",
            "COEFICIENTE DE DETERMINACIÓN: 0.57\n",
            "\n",
            "========================================================\n",
            "TRAIN:\n",
            "RAIZ DEL ERROR CUADRÁTICO MEDIO:62998.94\n",
            "COEFICIENTE DE DETERMINACIÓN:0.57\n",
            "========================================================\n",
            "TEST:\n",
            "RAIZ DEL ERROR CUADRÁTICO MEDIO:64144.47\n",
            "COEFICIENTE DE DETERMINACIÓN:0.56\n",
            "========================================================\n"
          ],
          "name": "stdout"
        }
      ]
    },
    {
      "cell_type": "code",
      "metadata": {
        "colab": {
          "base_uri": "https://localhost:8080/",
          "height": 529
        },
        "id": "aIFKGGzOclQ0",
        "outputId": "e9b1a7ea-b453-43ed-89d5-0470eb2a8c6c"
      },
      "source": [
        "plt.figure(figsize = (16,6))\n",
        "\n",
        "plt.subplot(1,2,1)\n",
        "sns.distplot(y_train - y_train_pred, bins = 20, label = 'train')\n",
        "sns.distplot(y_test - y_test_pred, bins = 20, label = 'test')\n",
        "plt.xlabel('errores')\n",
        "plt.legend()\n",
        "    \n",
        "ax = plt.subplot(1,2,2)\n",
        "ax.scatter(y_test,y_test_pred, s =2)\n",
        "    \n",
        "lims = [\n",
        "np.min([ax.get_xlim(), ax.get_ylim()]),  # min of both axes\n",
        "np.max([ax.get_xlim(), ax.get_ylim()]),  # max of both axes]\n",
        "]\n",
        "    \n",
        "ax.plot(lims, lims, 'k-', alpha=0.75, zorder=0)\n",
        "plt.xlabel('y (test)')\n",
        "plt.ylabel('y_pred (test)')\n",
        "\n",
        "plt.tight_layout()\n",
        "plt.show()"
      ],
      "execution_count": null,
      "outputs": [
        {
          "output_type": "stream",
          "text": [
            "/usr/local/lib/python3.7/dist-packages/seaborn/distributions.py:2557: FutureWarning: `distplot` is a deprecated function and will be removed in a future version. Please adapt your code to use either `displot` (a figure-level function with similar flexibility) or `histplot` (an axes-level function for histograms).\n",
            "  warnings.warn(msg, FutureWarning)\n",
            "/usr/local/lib/python3.7/dist-packages/seaborn/distributions.py:2557: FutureWarning: `distplot` is a deprecated function and will be removed in a future version. Please adapt your code to use either `displot` (a figure-level function with similar flexibility) or `histplot` (an axes-level function for histograms).\n",
            "  warnings.warn(msg, FutureWarning)\n"
          ],
          "name": "stderr"
        },
        {
          "output_type": "display_data",
          "data": {
            "image/png": "[encoded data removed]",
            "text/plain": [
              "<Figure size 1152x432 with 2 Axes>"
            ]
          },
          "metadata": {
            "tags": [],
            "needs_background": "light"
          }
        }
      ]
    },
    {
      "cell_type": "markdown",
      "metadata": {
        "id": "xfGoWUcIHmTv"
      },
      "source": [
        "A través de un ciclo evaluamos distintos valores de alpha con el fin de encontrar el mejor rendimiento."
      ]
    },
    {
      "cell_type": "code",
      "metadata": {
        "id": "80tJdeQDHoCF",
        "colab": {
          "base_uri": "https://localhost:8080/"
        },
        "outputId": "1b770445-e84c-4748-db76-aa7e1d22d46a"
      },
      "source": [
        "alpha = [0.001, 0.005, 0.01, 0.1, 0.5, 1]\n",
        "for i in alpha:\n",
        "    ridge= Ridge(alpha= i, random_state=5)\n",
        "    ridge.fit(X_train, y_train)\n",
        "    print('-----------------------------------------------------------------------------')\n",
        "    print(f'PolynomialFeatures: Ridge (alpha: {i})')\n",
        "    print('-----------------------------------------------------------------------------')\n",
        "    print(f'Pendientes: {ridge.coef_}')\n",
        "    print(f'Ordenada: {ridge.intercept_}\\n')\n",
        "\n",
        "    evaluar_regresion(ridge,X_train, X_test, y_train, y_test)"
      ],
      "execution_count": null,
      "outputs": [
        {
          "output_type": "stream",
          "text": [
            "-----------------------------------------------------------------------------\n",
            "PolynomialFeatures: Ridge (alpha: 0.001)\n",
            "-----------------------------------------------------------------------------\n",
            "Pendientes: [17895.2234061   2154.72890551 30165.44211137  9488.75518698\n",
            " 29805.02600668 -2539.99651341  5507.25185932 -4776.96876342]\n",
            "Ordenada: 189218.18619374587\n",
            "\n",
            "========================================================\n",
            "TRAIN:\n",
            "RAIZ DEL ERROR CUADRÁTICO MEDIO:62998.94\n",
            "COEFICIENTE DE DETERMINACIÓN:0.57\n",
            "========================================================\n",
            "TEST:\n",
            "RAIZ DEL ERROR CUADRÁTICO MEDIO:64144.56\n",
            "COEFICIENTE DE DETERMINACIÓN:0.56\n",
            "========================================================\n",
            "-----------------------------------------------------------------------------\n",
            "PolynomialFeatures: Ridge (alpha: 0.005)\n",
            "-----------------------------------------------------------------------------\n",
            "Pendientes: [17895.21138524  2154.74355822 30165.43935026  9488.76173939\n",
            " 29805.01671157 -2539.99604967  5507.25108705 -4776.96899375]\n",
            "Ordenada: 189218.18615923545\n",
            "\n",
            "========================================================\n",
            "TRAIN:\n",
            "RAIZ DEL ERROR CUADRÁTICO MEDIO:62998.94\n",
            "COEFICIENTE DE DETERMINACIÓN:0.57\n",
            "========================================================\n",
            "TEST:\n",
            "RAIZ DEL ERROR CUADRÁTICO MEDIO:64144.56\n",
            "COEFICIENTE DE DETERMINACIÓN:0.56\n",
            "========================================================\n",
            "-----------------------------------------------------------------------------\n",
            "PolynomialFeatures: Ridge (alpha: 0.01)\n",
            "-----------------------------------------------------------------------------\n",
            "Pendientes: [17895.19635922  2154.76187404 30165.43589887  9488.76992987\n",
            " 29805.00509269 -2539.99528488  5507.25055997 -4776.96887483]\n",
            "Ordenada: 189218.18611609752\n",
            "\n",
            "========================================================\n",
            "TRAIN:\n",
            "RAIZ DEL ERROR CUADRÁTICO MEDIO:62998.94\n",
            "COEFICIENTE DE DETERMINACIÓN:0.57\n",
            "========================================================\n",
            "TEST:\n",
            "RAIZ DEL ERROR CUADRÁTICO MEDIO:64144.56\n",
            "COEFICIENTE DE DETERMINACIÓN:0.56\n",
            "========================================================\n",
            "-----------------------------------------------------------------------------\n",
            "PolynomialFeatures: Ridge (alpha: 0.1)\n",
            "-----------------------------------------------------------------------------\n",
            "Pendientes: [17894.92590308  2155.09154611 30165.37377413  9488.9173553\n",
            " 29804.79595629 -2539.9811822   5507.24186878 -4776.965995  ]\n",
            "Ordenada: 189218.1853396337\n",
            "\n",
            "========================================================\n",
            "TRAIN:\n",
            "RAIZ DEL ERROR CUADRÁTICO MEDIO:62998.94\n",
            "COEFICIENTE DE DETERMINACIÓN:0.57\n",
            "========================================================\n",
            "TEST:\n",
            "RAIZ DEL ERROR CUADRÁTICO MEDIO:64144.55\n",
            "COEFICIENTE DE DETERMINACIÓN:0.56\n",
            "========================================================\n",
            "-----------------------------------------------------------------------------\n",
            "PolynomialFeatures: Ridge (alpha: 0.5)\n",
            "-----------------------------------------------------------------------------\n",
            "Pendientes: [17893.72415453  2156.55646459 30165.09766831  9489.57250387\n",
            " 29803.86653937 -2539.91844904  5507.20336953 -4776.95307329]\n",
            "Ordenada: 189218.181889117\n",
            "\n",
            "========================================================\n",
            "TRAIN:\n",
            "RAIZ DEL ERROR CUADRÁTICO MEDIO:62998.94\n",
            "COEFICIENTE DE DETERMINACIÓN:0.57\n",
            "========================================================\n",
            "TEST:\n",
            "RAIZ DEL ERROR CUADRÁTICO MEDIO:64144.51\n",
            "COEFICIENTE DE DETERMINACIÓN:0.56\n",
            "========================================================\n",
            "-----------------------------------------------------------------------------\n",
            "PolynomialFeatures: Ridge (alpha: 1)\n",
            "-----------------------------------------------------------------------------\n",
            "Pendientes: [17892.22260856  2158.38694554 30164.75254558  9490.39126613\n",
            " 29802.70494769 -2539.84003172  5507.15524527 -4776.93691363]\n",
            "Ordenada: 189218.17757696644\n",
            "\n",
            "========================================================\n",
            "TRAIN:\n",
            "RAIZ DEL ERROR CUADRÁTICO MEDIO:62998.94\n",
            "COEFICIENTE DE DETERMINACIÓN:0.57\n",
            "========================================================\n",
            "TEST:\n",
            "RAIZ DEL ERROR CUADRÁTICO MEDIO:64144.47\n",
            "COEFICIENTE DE DETERMINACIÓN:0.56\n",
            "========================================================\n"
          ],
          "name": "stdout"
        }
      ]
    },
    {
      "cell_type": "markdown",
      "metadata": {
        "id": "T_bydgvKo_eP"
      },
      "source": [
        "Observamos que no mejora el rendimiento respecto a LinearRegression."
      ]
    },
    {
      "cell_type": "markdown",
      "metadata": {
        "id": "v8Tk4J8jET-S"
      },
      "source": [
        "# **Hiperparámetros**"
      ]
    },
    {
      "cell_type": "code",
      "metadata": {
        "id": "X6YNKyEPEe0K"
      },
      "source": [
        "param_grid = {'alpha': np.array([0.01, 0.0001, 0.00001, 0.000001]),\n",
        "              #'fit_intercept': [True],\n",
        "              'solver': ['auto', 'svd', 'cholesky', 'lsqr', 'sparce_cg', 'saga'],\n",
        "              }"
      ],
      "execution_count": null,
      "outputs": []
    },
    {
      "cell_type": "code",
      "metadata": {
        "colab": {
          "base_uri": "https://localhost:8080/"
        },
        "id": "0w6yQp1fFdNv",
        "outputId": "f5943e4d-a4f2-4bea-f3da-22ff38be36b3"
      },
      "source": [
        "model_rid = RandomizedSearchCV(ridge, param_grid, n_iter=100, random_state=42, cv=5)\n",
        "\n",
        "model_rid.fit(X_train, y_train)"
      ],
      "execution_count": null,
      "outputs": [
        {
          "output_type": "stream",
          "text": [
            "/usr/local/lib/python3.7/dist-packages/sklearn/model_selection/_search.py:281: UserWarning: The total space of parameters 24 is smaller than n_iter=100. Running 24 iterations. For exhaustive searches, use GridSearchCV.\n",
            "  % (grid_size, self.n_iter, grid_size), UserWarning)\n",
            "/usr/local/lib/python3.7/dist-packages/sklearn/model_selection/_validation.py:536: FitFailedWarning: Estimator fit failed. The score on this train-test partition for these parameters will be set to nan. Details: \n",
            "ValueError: Known solvers are 'sparse_cg', 'cholesky', 'svd' 'lsqr', 'sag' or 'saga'. Got sparce_cg.\n",
            "\n",
            "  FitFailedWarning)\n",
            "/usr/local/lib/python3.7/dist-packages/sklearn/model_selection/_validation.py:536: FitFailedWarning: Estimator fit failed. The score on this train-test partition for these parameters will be set to nan. Details: \n",
            "ValueError: Known solvers are 'sparse_cg', 'cholesky', 'svd' 'lsqr', 'sag' or 'saga'. Got sparce_cg.\n",
            "\n",
            "  FitFailedWarning)\n",
            "/usr/local/lib/python3.7/dist-packages/sklearn/model_selection/_validation.py:536: FitFailedWarning: Estimator fit failed. The score on this train-test partition for these parameters will be set to nan. Details: \n",
            "ValueError: Known solvers are 'sparse_cg', 'cholesky', 'svd' 'lsqr', 'sag' or 'saga'. Got sparce_cg.\n",
            "\n",
            "  FitFailedWarning)\n",
            "/usr/local/lib/python3.7/dist-packages/sklearn/model_selection/_validation.py:536: FitFailedWarning: Estimator fit failed. The score on this train-test partition for these parameters will be set to nan. Details: \n",
            "ValueError: Known solvers are 'sparse_cg', 'cholesky', 'svd' 'lsqr', 'sag' or 'saga'. Got sparce_cg.\n",
            "\n",
            "  FitFailedWarning)\n",
            "/usr/local/lib/python3.7/dist-packages/sklearn/model_selection/_validation.py:536: FitFailedWarning: Estimator fit failed. The score on this train-test partition for these parameters will be set to nan. Details: \n",
            "ValueError: Known solvers are 'sparse_cg', 'cholesky', 'svd' 'lsqr', 'sag' or 'saga'. Got sparce_cg.\n",
            "\n",
            "  FitFailedWarning)\n",
            "/usr/local/lib/python3.7/dist-packages/sklearn/model_selection/_validation.py:536: FitFailedWarning: Estimator fit failed. The score on this train-test partition for these parameters will be set to nan. Details: \n",
            "ValueError: Known solvers are 'sparse_cg', 'cholesky', 'svd' 'lsqr', 'sag' or 'saga'. Got sparce_cg.\n",
            "\n",
            "  FitFailedWarning)\n",
            "/usr/local/lib/python3.7/dist-packages/sklearn/model_selection/_validation.py:536: FitFailedWarning: Estimator fit failed. The score on this train-test partition for these parameters will be set to nan. Details: \n",
            "ValueError: Known solvers are 'sparse_cg', 'cholesky', 'svd' 'lsqr', 'sag' or 'saga'. Got sparce_cg.\n",
            "\n",
            "  FitFailedWarning)\n",
            "/usr/local/lib/python3.7/dist-packages/sklearn/model_selection/_validation.py:536: FitFailedWarning: Estimator fit failed. The score on this train-test partition for these parameters will be set to nan. Details: \n",
            "ValueError: Known solvers are 'sparse_cg', 'cholesky', 'svd' 'lsqr', 'sag' or 'saga'. Got sparce_cg.\n",
            "\n",
            "  FitFailedWarning)\n",
            "/usr/local/lib/python3.7/dist-packages/sklearn/model_selection/_validation.py:536: FitFailedWarning: Estimator fit failed. The score on this train-test partition for these parameters will be set to nan. Details: \n",
            "ValueError: Known solvers are 'sparse_cg', 'cholesky', 'svd' 'lsqr', 'sag' or 'saga'. Got sparce_cg.\n",
            "\n",
            "  FitFailedWarning)\n",
            "/usr/local/lib/python3.7/dist-packages/sklearn/model_selection/_validation.py:536: FitFailedWarning: Estimator fit failed. The score on this train-test partition for these parameters will be set to nan. Details: \n",
            "ValueError: Known solvers are 'sparse_cg', 'cholesky', 'svd' 'lsqr', 'sag' or 'saga'. Got sparce_cg.\n",
            "\n",
            "  FitFailedWarning)\n",
            "/usr/local/lib/python3.7/dist-packages/sklearn/model_selection/_validation.py:536: FitFailedWarning: Estimator fit failed. The score on this train-test partition for these parameters will be set to nan. Details: \n",
            "ValueError: Known solvers are 'sparse_cg', 'cholesky', 'svd' 'lsqr', 'sag' or 'saga'. Got sparce_cg.\n",
            "\n",
            "  FitFailedWarning)\n",
            "/usr/local/lib/python3.7/dist-packages/sklearn/model_selection/_validation.py:536: FitFailedWarning: Estimator fit failed. The score on this train-test partition for these parameters will be set to nan. Details: \n",
            "ValueError: Known solvers are 'sparse_cg', 'cholesky', 'svd' 'lsqr', 'sag' or 'saga'. Got sparce_cg.\n",
            "\n",
            "  FitFailedWarning)\n",
            "/usr/local/lib/python3.7/dist-packages/sklearn/model_selection/_validation.py:536: FitFailedWarning: Estimator fit failed. The score on this train-test partition for these parameters will be set to nan. Details: \n",
            "ValueError: Known solvers are 'sparse_cg', 'cholesky', 'svd' 'lsqr', 'sag' or 'saga'. Got sparce_cg.\n",
            "\n",
            "  FitFailedWarning)\n",
            "/usr/local/lib/python3.7/dist-packages/sklearn/model_selection/_validation.py:536: FitFailedWarning: Estimator fit failed. The score on this train-test partition for these parameters will be set to nan. Details: \n",
            "ValueError: Known solvers are 'sparse_cg', 'cholesky', 'svd' 'lsqr', 'sag' or 'saga'. Got sparce_cg.\n",
            "\n",
            "  FitFailedWarning)\n",
            "/usr/local/lib/python3.7/dist-packages/sklearn/model_selection/_validation.py:536: FitFailedWarning: Estimator fit failed. The score on this train-test partition for these parameters will be set to nan. Details: \n",
            "ValueError: Known solvers are 'sparse_cg', 'cholesky', 'svd' 'lsqr', 'sag' or 'saga'. Got sparce_cg.\n",
            "\n",
            "  FitFailedWarning)\n",
            "/usr/local/lib/python3.7/dist-packages/sklearn/model_selection/_validation.py:536: FitFailedWarning: Estimator fit failed. The score on this train-test partition for these parameters will be set to nan. Details: \n",
            "ValueError: Known solvers are 'sparse_cg', 'cholesky', 'svd' 'lsqr', 'sag' or 'saga'. Got sparce_cg.\n",
            "\n",
            "  FitFailedWarning)\n",
            "/usr/local/lib/python3.7/dist-packages/sklearn/model_selection/_validation.py:536: FitFailedWarning: Estimator fit failed. The score on this train-test partition for these parameters will be set to nan. Details: \n",
            "ValueError: Known solvers are 'sparse_cg', 'cholesky', 'svd' 'lsqr', 'sag' or 'saga'. Got sparce_cg.\n",
            "\n",
            "  FitFailedWarning)\n",
            "/usr/local/lib/python3.7/dist-packages/sklearn/model_selection/_validation.py:536: FitFailedWarning: Estimator fit failed. The score on this train-test partition for these parameters will be set to nan. Details: \n",
            "ValueError: Known solvers are 'sparse_cg', 'cholesky', 'svd' 'lsqr', 'sag' or 'saga'. Got sparce_cg.\n",
            "\n",
            "  FitFailedWarning)\n",
            "/usr/local/lib/python3.7/dist-packages/sklearn/model_selection/_validation.py:536: FitFailedWarning: Estimator fit failed. The score on this train-test partition for these parameters will be set to nan. Details: \n",
            "ValueError: Known solvers are 'sparse_cg', 'cholesky', 'svd' 'lsqr', 'sag' or 'saga'. Got sparce_cg.\n",
            "\n",
            "  FitFailedWarning)\n",
            "/usr/local/lib/python3.7/dist-packages/sklearn/model_selection/_validation.py:536: FitFailedWarning: Estimator fit failed. The score on this train-test partition for these parameters will be set to nan. Details: \n",
            "ValueError: Known solvers are 'sparse_cg', 'cholesky', 'svd' 'lsqr', 'sag' or 'saga'. Got sparce_cg.\n",
            "\n",
            "  FitFailedWarning)\n"
          ],
          "name": "stderr"
        },
        {
          "output_type": "execute_result",
          "data": {
            "text/plain": [
              "RandomizedSearchCV(cv=5, error_score=nan,\n",
              "                   estimator=Ridge(alpha=1, copy_X=True, fit_intercept=True,\n",
              "                                   max_iter=None, normalize=False,\n",
              "                                   random_state=5, solver='auto', tol=0.001),\n",
              "                   iid='deprecated', n_iter=100, n_jobs=None,\n",
              "                   param_distributions={'alpha': array([1.e-02, 1.e-04, 1.e-05, 1.e-06]),\n",
              "                                        'solver': ['auto', 'svd', 'cholesky',\n",
              "                                                   'lsqr', 'sparce_cg',\n",
              "                                                   'saga']},\n",
              "                   pre_dispatch='2*n_jobs', random_state=42, refit=True,\n",
              "                   return_train_score=False, scoring=None, verbose=0)"
            ]
          },
          "metadata": {
            "tags": []
          },
          "execution_count": 73
        }
      ]
    },
    {
      "cell_type": "code",
      "metadata": {
        "colab": {
          "base_uri": "https://localhost:8080/"
        },
        "id": "xSVMUVR5GFOw",
        "outputId": "596a8489-ea6b-4086-9988-f0cc805e4284"
      },
      "source": [
        "print(\"Mejores parametros: \"+str(model_rid.best_params_))\n",
        "print(\"Mejor Score: \"+str(model_rid.best_score_)+'\\n')"
      ],
      "execution_count": null,
      "outputs": [
        {
          "output_type": "stream",
          "text": [
            "Mejores parametros: {'solver': 'auto', 'alpha': 0.01}\n",
            "Mejor Score: 0.5702942017633079\n",
            "\n"
          ],
          "name": "stdout"
        }
      ]
    },
    {
      "cell_type": "code",
      "metadata": {
        "colab": {
          "base_uri": "https://localhost:8080/",
          "height": 1000
        },
        "id": "urlCQpQWpKzA",
        "outputId": "577b736c-7553-4360-9039-7839635e0b5b"
      },
      "source": [
        "scores = pd.DataFrame(model_rid.cv_results_)\n",
        "scores"
      ],
      "execution_count": null,
      "outputs": [
        {
          "output_type": "execute_result",
          "data": {
            "text/html": [
              "<div>\n",
              "<style scoped>\n",
              "    .dataframe tbody tr th:only-of-type {\n",
              "        vertical-align: middle;\n",
              "    }\n",
              "\n",
              "    .dataframe tbody tr th {\n",
              "        vertical-align: top;\n",
              "    }\n",
              "\n",
              "    .dataframe thead th {\n",
              "        text-align: right;\n",
              "    }\n",
              "</style>\n",
              "<table border=\"1\" class=\"dataframe\">\n",
              "  <thead>\n",
              "    <tr style=\"text-align: right;\">\n",
              "      <th></th>\n",
              "      <th>mean_fit_time</th>\n",
              "      <th>std_fit_time</th>\n",
              "      <th>mean_score_time</th>\n",
              "      <th>std_score_time</th>\n",
              "      <th>param_solver</th>\n",
              "      <th>param_alpha</th>\n",
              "      <th>params</th>\n",
              "      <th>split0_test_score</th>\n",
              "      <th>split1_test_score</th>\n",
              "      <th>split2_test_score</th>\n",
              "      <th>split3_test_score</th>\n",
              "      <th>split4_test_score</th>\n",
              "      <th>mean_test_score</th>\n",
              "      <th>std_test_score</th>\n",
              "      <th>rank_test_score</th>\n",
              "    </tr>\n",
              "  </thead>\n",
              "  <tbody>\n",
              "    <tr>\n",
              "      <th>0</th>\n",
              "      <td>0.010044</td>\n",
              "      <td>0.002873</td>\n",
              "      <td>0.002472</td>\n",
              "      <td>0.000805</td>\n",
              "      <td>auto</td>\n",
              "      <td>0.01</td>\n",
              "      <td>{'solver': 'auto', 'alpha': 0.01}</td>\n",
              "      <td>0.561397</td>\n",
              "      <td>0.573261</td>\n",
              "      <td>0.557562</td>\n",
              "      <td>0.576238</td>\n",
              "      <td>0.583013</td>\n",
              "      <td>0.570294</td>\n",
              "      <td>0.009457</td>\n",
              "      <td>1</td>\n",
              "    </tr>\n",
              "    <tr>\n",
              "      <th>1</th>\n",
              "      <td>0.013132</td>\n",
              "      <td>0.000861</td>\n",
              "      <td>0.002263</td>\n",
              "      <td>0.000065</td>\n",
              "      <td>svd</td>\n",
              "      <td>0.01</td>\n",
              "      <td>{'solver': 'svd', 'alpha': 0.01}</td>\n",
              "      <td>0.561397</td>\n",
              "      <td>0.573261</td>\n",
              "      <td>0.557562</td>\n",
              "      <td>0.576238</td>\n",
              "      <td>0.583013</td>\n",
              "      <td>0.570294</td>\n",
              "      <td>0.009457</td>\n",
              "      <td>1</td>\n",
              "    </tr>\n",
              "    <tr>\n",
              "      <th>2</th>\n",
              "      <td>0.007227</td>\n",
              "      <td>0.000165</td>\n",
              "      <td>0.003026</td>\n",
              "      <td>0.002160</td>\n",
              "      <td>cholesky</td>\n",
              "      <td>0.01</td>\n",
              "      <td>{'solver': 'cholesky', 'alpha': 0.01}</td>\n",
              "      <td>0.561397</td>\n",
              "      <td>0.573261</td>\n",
              "      <td>0.557562</td>\n",
              "      <td>0.576238</td>\n",
              "      <td>0.583013</td>\n",
              "      <td>0.570294</td>\n",
              "      <td>0.009457</td>\n",
              "      <td>1</td>\n",
              "    </tr>\n",
              "    <tr>\n",
              "      <th>3</th>\n",
              "      <td>0.016196</td>\n",
              "      <td>0.004500</td>\n",
              "      <td>0.003074</td>\n",
              "      <td>0.000854</td>\n",
              "      <td>lsqr</td>\n",
              "      <td>0.01</td>\n",
              "      <td>{'solver': 'lsqr', 'alpha': 0.01}</td>\n",
              "      <td>0.561397</td>\n",
              "      <td>0.573261</td>\n",
              "      <td>0.557562</td>\n",
              "      <td>0.576238</td>\n",
              "      <td>0.583013</td>\n",
              "      <td>0.570294</td>\n",
              "      <td>0.009457</td>\n",
              "      <td>4</td>\n",
              "    </tr>\n",
              "    <tr>\n",
              "      <th>4</th>\n",
              "      <td>0.005930</td>\n",
              "      <td>0.000145</td>\n",
              "      <td>0.000000</td>\n",
              "      <td>0.000000</td>\n",
              "      <td>sparce_cg</td>\n",
              "      <td>0.01</td>\n",
              "      <td>{'solver': 'sparce_cg', 'alpha': 0.01}</td>\n",
              "      <td>NaN</td>\n",
              "      <td>NaN</td>\n",
              "      <td>NaN</td>\n",
              "      <td>NaN</td>\n",
              "      <td>NaN</td>\n",
              "      <td>NaN</td>\n",
              "      <td>NaN</td>\n",
              "      <td>24</td>\n",
              "    </tr>\n",
              "    <tr>\n",
              "      <th>5</th>\n",
              "      <td>0.084809</td>\n",
              "      <td>0.008221</td>\n",
              "      <td>0.002297</td>\n",
              "      <td>0.000104</td>\n",
              "      <td>saga</td>\n",
              "      <td>0.01</td>\n",
              "      <td>{'solver': 'saga', 'alpha': 0.01}</td>\n",
              "      <td>0.561401</td>\n",
              "      <td>0.573250</td>\n",
              "      <td>0.557544</td>\n",
              "      <td>0.576234</td>\n",
              "      <td>0.582996</td>\n",
              "      <td>0.570285</td>\n",
              "      <td>0.009455</td>\n",
              "      <td>17</td>\n",
              "    </tr>\n",
              "    <tr>\n",
              "      <th>6</th>\n",
              "      <td>0.007114</td>\n",
              "      <td>0.000455</td>\n",
              "      <td>0.001912</td>\n",
              "      <td>0.000050</td>\n",
              "      <td>auto</td>\n",
              "      <td>0.0001</td>\n",
              "      <td>{'solver': 'auto', 'alpha': 0.0001}</td>\n",
              "      <td>0.561397</td>\n",
              "      <td>0.573261</td>\n",
              "      <td>0.557562</td>\n",
              "      <td>0.576238</td>\n",
              "      <td>0.583013</td>\n",
              "      <td>0.570294</td>\n",
              "      <td>0.009457</td>\n",
              "      <td>5</td>\n",
              "    </tr>\n",
              "    <tr>\n",
              "      <th>7</th>\n",
              "      <td>0.013265</td>\n",
              "      <td>0.001155</td>\n",
              "      <td>0.002226</td>\n",
              "      <td>0.000229</td>\n",
              "      <td>svd</td>\n",
              "      <td>0.0001</td>\n",
              "      <td>{'solver': 'svd', 'alpha': 0.0001}</td>\n",
              "      <td>0.561397</td>\n",
              "      <td>0.573261</td>\n",
              "      <td>0.557562</td>\n",
              "      <td>0.576238</td>\n",
              "      <td>0.583013</td>\n",
              "      <td>0.570294</td>\n",
              "      <td>0.009457</td>\n",
              "      <td>7</td>\n",
              "    </tr>\n",
              "    <tr>\n",
              "      <th>8</th>\n",
              "      <td>0.007322</td>\n",
              "      <td>0.000730</td>\n",
              "      <td>0.002323</td>\n",
              "      <td>0.000515</td>\n",
              "      <td>cholesky</td>\n",
              "      <td>0.0001</td>\n",
              "      <td>{'solver': 'cholesky', 'alpha': 0.0001}</td>\n",
              "      <td>0.561397</td>\n",
              "      <td>0.573261</td>\n",
              "      <td>0.557562</td>\n",
              "      <td>0.576238</td>\n",
              "      <td>0.583013</td>\n",
              "      <td>0.570294</td>\n",
              "      <td>0.009457</td>\n",
              "      <td>5</td>\n",
              "    </tr>\n",
              "    <tr>\n",
              "      <th>9</th>\n",
              "      <td>0.011698</td>\n",
              "      <td>0.002450</td>\n",
              "      <td>0.002146</td>\n",
              "      <td>0.000024</td>\n",
              "      <td>lsqr</td>\n",
              "      <td>0.0001</td>\n",
              "      <td>{'solver': 'lsqr', 'alpha': 0.0001}</td>\n",
              "      <td>0.561397</td>\n",
              "      <td>0.573261</td>\n",
              "      <td>0.557562</td>\n",
              "      <td>0.576238</td>\n",
              "      <td>0.583013</td>\n",
              "      <td>0.570294</td>\n",
              "      <td>0.009457</td>\n",
              "      <td>8</td>\n",
              "    </tr>\n",
              "    <tr>\n",
              "      <th>10</th>\n",
              "      <td>0.009559</td>\n",
              "      <td>0.003597</td>\n",
              "      <td>0.000000</td>\n",
              "      <td>0.000000</td>\n",
              "      <td>sparce_cg</td>\n",
              "      <td>0.0001</td>\n",
              "      <td>{'solver': 'sparce_cg', 'alpha': 0.0001}</td>\n",
              "      <td>NaN</td>\n",
              "      <td>NaN</td>\n",
              "      <td>NaN</td>\n",
              "      <td>NaN</td>\n",
              "      <td>NaN</td>\n",
              "      <td>NaN</td>\n",
              "      <td>NaN</td>\n",
              "      <td>23</td>\n",
              "    </tr>\n",
              "    <tr>\n",
              "      <th>11</th>\n",
              "      <td>0.084474</td>\n",
              "      <td>0.007247</td>\n",
              "      <td>0.002270</td>\n",
              "      <td>0.000156</td>\n",
              "      <td>saga</td>\n",
              "      <td>0.0001</td>\n",
              "      <td>{'solver': 'saga', 'alpha': 0.0001}</td>\n",
              "      <td>0.561401</td>\n",
              "      <td>0.573250</td>\n",
              "      <td>0.557544</td>\n",
              "      <td>0.576234</td>\n",
              "      <td>0.582996</td>\n",
              "      <td>0.570285</td>\n",
              "      <td>0.009455</td>\n",
              "      <td>18</td>\n",
              "    </tr>\n",
              "    <tr>\n",
              "      <th>12</th>\n",
              "      <td>0.007009</td>\n",
              "      <td>0.000307</td>\n",
              "      <td>0.002038</td>\n",
              "      <td>0.000333</td>\n",
              "      <td>auto</td>\n",
              "      <td>1e-05</td>\n",
              "      <td>{'solver': 'auto', 'alpha': 1e-05}</td>\n",
              "      <td>0.561397</td>\n",
              "      <td>0.573261</td>\n",
              "      <td>0.557562</td>\n",
              "      <td>0.576238</td>\n",
              "      <td>0.583013</td>\n",
              "      <td>0.570294</td>\n",
              "      <td>0.009457</td>\n",
              "      <td>9</td>\n",
              "    </tr>\n",
              "    <tr>\n",
              "      <th>13</th>\n",
              "      <td>0.012339</td>\n",
              "      <td>0.000952</td>\n",
              "      <td>0.002097</td>\n",
              "      <td>0.000088</td>\n",
              "      <td>svd</td>\n",
              "      <td>1e-05</td>\n",
              "      <td>{'solver': 'svd', 'alpha': 1e-05}</td>\n",
              "      <td>0.561397</td>\n",
              "      <td>0.573261</td>\n",
              "      <td>0.557562</td>\n",
              "      <td>0.576238</td>\n",
              "      <td>0.583013</td>\n",
              "      <td>0.570294</td>\n",
              "      <td>0.009457</td>\n",
              "      <td>9</td>\n",
              "    </tr>\n",
              "    <tr>\n",
              "      <th>14</th>\n",
              "      <td>0.009636</td>\n",
              "      <td>0.003542</td>\n",
              "      <td>0.002169</td>\n",
              "      <td>0.000167</td>\n",
              "      <td>cholesky</td>\n",
              "      <td>1e-05</td>\n",
              "      <td>{'solver': 'cholesky', 'alpha': 1e-05}</td>\n",
              "      <td>0.561397</td>\n",
              "      <td>0.573261</td>\n",
              "      <td>0.557562</td>\n",
              "      <td>0.576238</td>\n",
              "      <td>0.583013</td>\n",
              "      <td>0.570294</td>\n",
              "      <td>0.009457</td>\n",
              "      <td>9</td>\n",
              "    </tr>\n",
              "    <tr>\n",
              "      <th>15</th>\n",
              "      <td>0.014577</td>\n",
              "      <td>0.004120</td>\n",
              "      <td>0.002415</td>\n",
              "      <td>0.000534</td>\n",
              "      <td>lsqr</td>\n",
              "      <td>1e-05</td>\n",
              "      <td>{'solver': 'lsqr', 'alpha': 1e-05}</td>\n",
              "      <td>0.561397</td>\n",
              "      <td>0.573261</td>\n",
              "      <td>0.557562</td>\n",
              "      <td>0.576238</td>\n",
              "      <td>0.583013</td>\n",
              "      <td>0.570294</td>\n",
              "      <td>0.009457</td>\n",
              "      <td>12</td>\n",
              "    </tr>\n",
              "    <tr>\n",
              "      <th>16</th>\n",
              "      <td>0.006239</td>\n",
              "      <td>0.000335</td>\n",
              "      <td>0.000000</td>\n",
              "      <td>0.000000</td>\n",
              "      <td>sparce_cg</td>\n",
              "      <td>1e-05</td>\n",
              "      <td>{'solver': 'sparce_cg', 'alpha': 1e-05}</td>\n",
              "      <td>NaN</td>\n",
              "      <td>NaN</td>\n",
              "      <td>NaN</td>\n",
              "      <td>NaN</td>\n",
              "      <td>NaN</td>\n",
              "      <td>NaN</td>\n",
              "      <td>NaN</td>\n",
              "      <td>21</td>\n",
              "    </tr>\n",
              "    <tr>\n",
              "      <th>17</th>\n",
              "      <td>0.080961</td>\n",
              "      <td>0.005595</td>\n",
              "      <td>0.002283</td>\n",
              "      <td>0.000063</td>\n",
              "      <td>saga</td>\n",
              "      <td>1e-05</td>\n",
              "      <td>{'solver': 'saga', 'alpha': 1e-05}</td>\n",
              "      <td>0.561401</td>\n",
              "      <td>0.573250</td>\n",
              "      <td>0.557544</td>\n",
              "      <td>0.576234</td>\n",
              "      <td>0.582996</td>\n",
              "      <td>0.570285</td>\n",
              "      <td>0.009455</td>\n",
              "      <td>19</td>\n",
              "    </tr>\n",
              "    <tr>\n",
              "      <th>18</th>\n",
              "      <td>0.007116</td>\n",
              "      <td>0.000308</td>\n",
              "      <td>0.001894</td>\n",
              "      <td>0.000056</td>\n",
              "      <td>auto</td>\n",
              "      <td>1e-06</td>\n",
              "      <td>{'solver': 'auto', 'alpha': 1e-06}</td>\n",
              "      <td>0.561397</td>\n",
              "      <td>0.573261</td>\n",
              "      <td>0.557562</td>\n",
              "      <td>0.576238</td>\n",
              "      <td>0.583013</td>\n",
              "      <td>0.570294</td>\n",
              "      <td>0.009457</td>\n",
              "      <td>13</td>\n",
              "    </tr>\n",
              "    <tr>\n",
              "      <th>19</th>\n",
              "      <td>0.022196</td>\n",
              "      <td>0.006192</td>\n",
              "      <td>0.002898</td>\n",
              "      <td>0.000888</td>\n",
              "      <td>svd</td>\n",
              "      <td>1e-06</td>\n",
              "      <td>{'solver': 'svd', 'alpha': 1e-06}</td>\n",
              "      <td>0.561397</td>\n",
              "      <td>0.573261</td>\n",
              "      <td>0.557562</td>\n",
              "      <td>0.576238</td>\n",
              "      <td>0.583013</td>\n",
              "      <td>0.570294</td>\n",
              "      <td>0.009457</td>\n",
              "      <td>15</td>\n",
              "    </tr>\n",
              "    <tr>\n",
              "      <th>20</th>\n",
              "      <td>0.007141</td>\n",
              "      <td>0.000380</td>\n",
              "      <td>0.002097</td>\n",
              "      <td>0.000435</td>\n",
              "      <td>cholesky</td>\n",
              "      <td>1e-06</td>\n",
              "      <td>{'solver': 'cholesky', 'alpha': 1e-06}</td>\n",
              "      <td>0.561397</td>\n",
              "      <td>0.573261</td>\n",
              "      <td>0.557562</td>\n",
              "      <td>0.576238</td>\n",
              "      <td>0.583013</td>\n",
              "      <td>0.570294</td>\n",
              "      <td>0.009457</td>\n",
              "      <td>13</td>\n",
              "    </tr>\n",
              "    <tr>\n",
              "      <th>21</th>\n",
              "      <td>0.012086</td>\n",
              "      <td>0.003055</td>\n",
              "      <td>0.002061</td>\n",
              "      <td>0.000083</td>\n",
              "      <td>lsqr</td>\n",
              "      <td>1e-06</td>\n",
              "      <td>{'solver': 'lsqr', 'alpha': 1e-06}</td>\n",
              "      <td>0.561397</td>\n",
              "      <td>0.573261</td>\n",
              "      <td>0.557562</td>\n",
              "      <td>0.576238</td>\n",
              "      <td>0.583013</td>\n",
              "      <td>0.570294</td>\n",
              "      <td>0.009457</td>\n",
              "      <td>16</td>\n",
              "    </tr>\n",
              "    <tr>\n",
              "      <th>22</th>\n",
              "      <td>0.008285</td>\n",
              "      <td>0.003472</td>\n",
              "      <td>0.000000</td>\n",
              "      <td>0.000000</td>\n",
              "      <td>sparce_cg</td>\n",
              "      <td>1e-06</td>\n",
              "      <td>{'solver': 'sparce_cg', 'alpha': 1e-06}</td>\n",
              "      <td>NaN</td>\n",
              "      <td>NaN</td>\n",
              "      <td>NaN</td>\n",
              "      <td>NaN</td>\n",
              "      <td>NaN</td>\n",
              "      <td>NaN</td>\n",
              "      <td>NaN</td>\n",
              "      <td>22</td>\n",
              "    </tr>\n",
              "    <tr>\n",
              "      <th>23</th>\n",
              "      <td>0.082650</td>\n",
              "      <td>0.006521</td>\n",
              "      <td>0.003232</td>\n",
              "      <td>0.002145</td>\n",
              "      <td>saga</td>\n",
              "      <td>1e-06</td>\n",
              "      <td>{'solver': 'saga', 'alpha': 1e-06}</td>\n",
              "      <td>0.561401</td>\n",
              "      <td>0.573250</td>\n",
              "      <td>0.557544</td>\n",
              "      <td>0.576234</td>\n",
              "      <td>0.582996</td>\n",
              "      <td>0.570285</td>\n",
              "      <td>0.009455</td>\n",
              "      <td>20</td>\n",
              "    </tr>\n",
              "  </tbody>\n",
              "</table>\n",
              "</div>"
            ],
            "text/plain": [
              "    mean_fit_time  std_fit_time  ...  std_test_score  rank_test_score\n",
              "0        0.010044      0.002873  ...        0.009457                1\n",
              "1        0.013132      0.000861  ...        0.009457                1\n",
              "2        0.007227      0.000165  ...        0.009457                1\n",
              "3        0.016196      0.004500  ...        0.009457                4\n",
              "4        0.005930      0.000145  ...             NaN               24\n",
              "5        0.084809      0.008221  ...        0.009455               17\n",
              "6        0.007114      0.000455  ...        0.009457                5\n",
              "7        0.013265      0.001155  ...        0.009457                7\n",
              "8        0.007322      0.000730  ...        0.009457                5\n",
              "9        0.011698      0.002450  ...        0.009457                8\n",
              "10       0.009559      0.003597  ...             NaN               23\n",
              "11       0.084474      0.007247  ...        0.009455               18\n",
              "12       0.007009      0.000307  ...        0.009457                9\n",
              "13       0.012339      0.000952  ...        0.009457                9\n",
              "14       0.009636      0.003542  ...        0.009457                9\n",
              "15       0.014577      0.004120  ...        0.009457               12\n",
              "16       0.006239      0.000335  ...             NaN               21\n",
              "17       0.080961      0.005595  ...        0.009455               19\n",
              "18       0.007116      0.000308  ...        0.009457               13\n",
              "19       0.022196      0.006192  ...        0.009457               15\n",
              "20       0.007141      0.000380  ...        0.009457               13\n",
              "21       0.012086      0.003055  ...        0.009457               16\n",
              "22       0.008285      0.003472  ...             NaN               22\n",
              "23       0.082650      0.006521  ...        0.009455               20\n",
              "\n",
              "[24 rows x 15 columns]"
            ]
          },
          "metadata": {
            "tags": []
          },
          "execution_count": 82
        }
      ]
    },
    {
      "cell_type": "code",
      "metadata": {
        "id": "oZIjJQVUIEcF"
      },
      "source": [
        "ridge_dos= Ridge(solver='auto', alpha= 0.01)"
      ],
      "execution_count": null,
      "outputs": []
    },
    {
      "cell_type": "code",
      "metadata": {
        "colab": {
          "base_uri": "https://localhost:8080/"
        },
        "id": "Jo36ddbYINAS",
        "outputId": "3096cfe9-b991-4305-cd51-6ee15a5c90ff"
      },
      "source": [
        "ridge_dos.fit(X_train, y_train)"
      ],
      "execution_count": null,
      "outputs": [
        {
          "output_type": "execute_result",
          "data": {
            "text/plain": [
              "Ridge(alpha=0.01, copy_X=True, fit_intercept=True, max_iter=None,\n",
              "      normalize=False, random_state=None, solver='auto', tol=0.001)"
            ]
          },
          "metadata": {
            "tags": []
          },
          "execution_count": 76
        }
      ]
    },
    {
      "cell_type": "code",
      "metadata": {
        "colab": {
          "base_uri": "https://localhost:8080/"
        },
        "id": "0ihXwimIIWXX",
        "outputId": "57484a50-8850-4611-b21d-a519185b6d06"
      },
      "source": [
        "y_train_pred = ridge_dos.predict(X_train)\n",
        "y_test_pred = ridge_dos.predict(X_test)\n",
        "\n",
        "rmse_train_mod = np.sqrt(mean_squared_error(y_train, y_train_pred))\n",
        "rmse_test_mod = np.sqrt(mean_squared_error(y_test, y_test_pred))\n",
        "r2_score_train_mod = r2_score(y_train, y_train_pred)\n",
        "r2_score_test_mod = r2_score(y_test, y_test_pred)\n",
        "\n",
        "print(\"RMSE Train: %f\"%(rmse_train_mod))\n",
        "print(\"RMSE Test: %f\"%(rmse_test_mod))\n",
        "print(\"Coeficiente de determinación Train: %f\"%(r2_score_train_mod))\n",
        "print(\"Coeficiente de determinación Test: %f\"%(r2_score_test_mod))"
      ],
      "execution_count": null,
      "outputs": [
        {
          "output_type": "stream",
          "text": [
            "RMSE Train: 62998.939276\n",
            "RMSE Test: 64144.556513\n",
            "Coeficiente de determinación Train: 0.570964\n",
            "Coeficiente de determinación Test: 0.562283\n"
          ],
          "name": "stdout"
        }
      ]
    },
    {
      "cell_type": "markdown",
      "metadata": {
        "id": "vdW4wD7QJXCr"
      },
      "source": [
        "El rendimiento se mantiene con los mismos valores de la regularización sin aplicar los hiperparámetros. "
      ]
    },
    {
      "cell_type": "markdown",
      "metadata": {
        "id": "aQIN_yBcl3Eo"
      },
      "source": [
        "Lasso"
      ]
    },
    {
      "cell_type": "markdown",
      "metadata": {
        "id": "gaXJBBlZqCgW"
      },
      "source": [
        "Continuamos con una regularización Lasso. Procedemos entrenando un modelo con valores por defecto."
      ]
    },
    {
      "cell_type": "code",
      "metadata": {
        "id": "eusQeiPRl4zD",
        "colab": {
          "base_uri": "https://localhost:8080/"
        },
        "outputId": "6a4d535f-34c3-4dc5-d016-85eaf2b6c117"
      },
      "source": [
        "lasso= Lasso(random_state=5)\n",
        "lasso.fit(X_train, y_train)\n",
        "\n",
        "print('--------------------------------------------------------')\n",
        "print('PolynomialFeatures: Lasso')\n",
        "print('--------------------------------------------------------')\n",
        "rmse = cross_val_score(lasso, X_train, y_train, cv=9, scoring='neg_root_mean_squared_error', n_jobs=-1)\n",
        "print(f'RAÍZ DEL ERROR CUADRÁTICO MEDIO: {-rmse.mean().round(2)} (+/- {rmse.std().round(2)})')\n",
        "mse= cross_val_score(lasso, X_train,y_train, cv=9, scoring='neg_mean_squared_error', n_jobs=-1)\n",
        "print(f'ERROR CUADRÁTICO MEDIO: {-mse.mean().round(2)} (+/- {mse.std().round(2)})')\n",
        "r2= cross_val_score(lasso, X_train,y_train, cv=9, scoring='r2', n_jobs=-1)\n",
        "print(f'COEFICIENTE DE DETERMINACIÓN: {r2.mean().round(2)}\\n')\n",
        "\n",
        "evaluar_regresion(lasso,X_train, X_test, y_train, y_test)"
      ],
      "execution_count": null,
      "outputs": [
        {
          "output_type": "stream",
          "text": [
            "/usr/local/lib/python3.7/dist-packages/sklearn/linear_model/_coordinate_descent.py:476: ConvergenceWarning: Objective did not converge. You might want to increase the number of iterations. Duality gap: 4024660695267.1406, tolerance: 36821350743.59989\n",
            "  positive)\n"
          ],
          "name": "stderr"
        },
        {
          "output_type": "stream",
          "text": [
            "--------------------------------------------------------\n",
            "PolynomialFeatures: Lasso\n",
            "--------------------------------------------------------\n",
            "RAÍZ DEL ERROR CUADRÁTICO MEDIO: 63051.43 (+/- 937.25)\n",
            "ERROR CUADRÁTICO MEDIO: 3976361464.6 (+/- 118183908.71)\n",
            "COEFICIENTE DE DETERMINACIÓN: 0.57\n",
            "\n",
            "========================================================\n",
            "TRAIN:\n",
            "RAIZ DEL ERROR CUADRÁTICO MEDIO:62998.94\n",
            "COEFICIENTE DE DETERMINACIÓN:0.57\n",
            "========================================================\n",
            "TEST:\n",
            "RAIZ DEL ERROR CUADRÁTICO MEDIO:64144.63\n",
            "COEFICIENTE DE DETERMINACIÓN:0.56\n",
            "========================================================\n"
          ],
          "name": "stdout"
        }
      ]
    },
    {
      "cell_type": "markdown",
      "metadata": {
        "id": "bjkZfJL_qGnV"
      },
      "source": [
        "Nuevamente nos ayudamos en la tarea de encontrar el mejor valor de α con un ciclo. Iteramos y comparamos los resultados."
      ]
    },
    {
      "cell_type": "code",
      "metadata": {
        "id": "DLlMnIRll6ix",
        "colab": {
          "base_uri": "https://localhost:8080/"
        },
        "outputId": "293221b1-1926-4350-dc36-1bbb0aeb3107"
      },
      "source": [
        "alpha = [0.001, 0.005, 0.01, 0.1, 0.5, 1]\n",
        "for i in alpha:\n",
        "    lasso= Lasso(alpha= i, random_state=5, warm_start= True)\n",
        "    lasso.fit(X_train, y_train)\n",
        "    print('-----------------------------------------------------------------------------')\n",
        "    print(f'PolynomialFeatures: Lasso (alpha: {i})')\n",
        "    print('-----------------------------------------------------------------------------')\n",
        "    print(f'Pendientes: {lasso.coef_}')\n",
        "    print(f'Ordenada: {lasso.intercept_}\\n')\n",
        "\n",
        "    evaluar_regresion(lasso,X_train, X_test, y_train, y_test)"
      ],
      "execution_count": null,
      "outputs": [
        {
          "output_type": "stream",
          "text": [
            "/usr/local/lib/python3.7/dist-packages/sklearn/linear_model/_coordinate_descent.py:476: ConvergenceWarning: Objective did not converge. You might want to increase the number of iterations. Duality gap: 4023835083879.3125, tolerance: 36821350743.59989\n",
            "  positive)\n"
          ],
          "name": "stderr"
        },
        {
          "output_type": "stream",
          "text": [
            "-----------------------------------------------------------------------------\n",
            "PolynomialFeatures: Lasso (alpha: 0.001)\n",
            "-----------------------------------------------------------------------------\n",
            "Pendientes: [17895.22604451  2154.72490029 30165.44257087  9488.75219685\n",
            " 29805.02828864 -1040.52396994  9057.18487136 -1481.63058828]\n",
            "Ordenada: 189218.18620947222\n",
            "\n",
            "========================================================\n",
            "TRAIN:\n",
            "RAIZ DEL ERROR CUADRÁTICO MEDIO:62998.94\n",
            "COEFICIENTE DE DETERMINACIÓN:0.57\n",
            "========================================================\n",
            "TEST:\n",
            "RAIZ DEL ERROR CUADRÁTICO MEDIO:64144.56\n",
            "COEFICIENTE DE DETERMINACIÓN:0.56\n",
            "========================================================\n"
          ],
          "name": "stdout"
        },
        {
          "output_type": "stream",
          "text": [
            "/usr/local/lib/python3.7/dist-packages/sklearn/linear_model/_coordinate_descent.py:476: ConvergenceWarning: Objective did not converge. You might want to increase the number of iterations. Duality gap: 4023838426738.4375, tolerance: 36821350743.59989\n",
            "  positive)\n"
          ],
          "name": "stderr"
        },
        {
          "output_type": "stream",
          "text": [
            "-----------------------------------------------------------------------------\n",
            "PolynomialFeatures: Lasso (alpha: 0.005)\n",
            "-----------------------------------------------------------------------------\n",
            "Pendientes: [17895.22457726  2154.72353214 30165.44164779  9488.7467887\n",
            " 29805.02812136 -1039.93419835  9058.56607707 -1480.34190565]\n",
            "Ordenada: 189218.18623786714\n",
            "\n",
            "========================================================\n",
            "TRAIN:\n",
            "RAIZ DEL ERROR CUADRÁTICO MEDIO:62998.94\n",
            "COEFICIENTE DE DETERMINACIÓN:0.57\n",
            "========================================================\n",
            "TEST:\n",
            "RAIZ DEL ERROR CUADRÁTICO MEDIO:64144.56\n",
            "COEFICIENTE DE DETERMINACIÓN:0.56\n",
            "========================================================\n"
          ],
          "name": "stdout"
        },
        {
          "output_type": "stream",
          "text": [
            "/usr/local/lib/python3.7/dist-packages/sklearn/linear_model/_coordinate_descent.py:476: ConvergenceWarning: Objective did not converge. You might want to increase the number of iterations. Duality gap: 4023842580528.2344, tolerance: 36821350743.59989\n",
            "  positive)\n"
          ],
          "name": "stderr"
        },
        {
          "output_type": "stream",
          "text": [
            "-----------------------------------------------------------------------------\n",
            "PolynomialFeatures: Lasso (alpha: 0.01)\n",
            "-----------------------------------------------------------------------------\n",
            "Pendientes: [17895.22274319  2154.72182195 30165.44049393  9488.74002853\n",
            " 29805.02791225 -1039.19698387  9060.2925842  -1478.73105235]\n",
            "Ordenada: 189218.1862733608\n",
            "\n",
            "========================================================\n",
            "TRAIN:\n",
            "RAIZ DEL ERROR CUADRÁTICO MEDIO:62998.94\n",
            "COEFICIENTE DE DETERMINACIÓN:0.57\n",
            "========================================================\n",
            "TEST:\n",
            "RAIZ DEL ERROR CUADRÁTICO MEDIO:64144.56\n",
            "COEFICIENTE DE DETERMINACIÓN:0.56\n",
            "========================================================\n"
          ],
          "name": "stdout"
        },
        {
          "output_type": "stream",
          "text": [
            "/usr/local/lib/python3.7/dist-packages/sklearn/linear_model/_coordinate_descent.py:476: ConvergenceWarning: Objective did not converge. You might want to increase the number of iterations. Duality gap: 4023917349020.125, tolerance: 36821350743.59989\n",
            "  positive)\n"
          ],
          "name": "stderr"
        },
        {
          "output_type": "stream",
          "text": [
            "-----------------------------------------------------------------------------\n",
            "PolynomialFeatures: Lasso (alpha: 0.1)\n",
            "-----------------------------------------------------------------------------\n",
            "Pendientes: [17895.18972993  2154.69103851 30165.41972448  9488.61834533\n",
            " 29805.02414833 -1025.92712313  9091.36971262 -1449.73569306]\n",
            "Ordenada: 189218.18691224657\n",
            "\n",
            "========================================================\n",
            "TRAIN:\n",
            "RAIZ DEL ERROR CUADRÁTICO MEDIO:62998.94\n",
            "COEFICIENTE DE DETERMINACIÓN:0.57\n",
            "========================================================\n",
            "TEST:\n",
            "RAIZ DEL ERROR CUADRÁTICO MEDIO:64144.56\n",
            "COEFICIENTE DE DETERMINACIÓN:0.56\n",
            "========================================================\n"
          ],
          "name": "stdout"
        },
        {
          "output_type": "stream",
          "text": [
            "/usr/local/lib/python3.7/dist-packages/sklearn/linear_model/_coordinate_descent.py:476: ConvergenceWarning: Objective did not converge. You might want to increase the number of iterations. Duality gap: 4024248699310.047, tolerance: 36821350743.59989\n",
            "  positive)\n"
          ],
          "name": "stderr"
        },
        {
          "output_type": "stream",
          "text": [
            "-----------------------------------------------------------------------------\n",
            "PolynomialFeatures: Lasso (alpha: 0.5)\n",
            "-----------------------------------------------------------------------------\n",
            "Pendientes: [17895.04300434  2154.55422324 30165.32741581  9488.07753111\n",
            " 29805.00741978  -966.94996427  9229.49028336 -1320.86742955]\n",
            "Ordenada: 189218.18975173894\n",
            "\n",
            "========================================================\n",
            "TRAIN:\n",
            "RAIZ DEL ERROR CUADRÁTICO MEDIO:62998.94\n",
            "COEFICIENTE DE DETERMINACIÓN:0.57\n",
            "========================================================\n",
            "TEST:\n",
            "RAIZ DEL ERROR CUADRÁTICO MEDIO:64144.6\n",
            "COEFICIENTE DE DETERMINACIÓN:0.56\n",
            "========================================================\n",
            "-----------------------------------------------------------------------------\n",
            "PolynomialFeatures: Lasso (alpha: 1)\n",
            "-----------------------------------------------------------------------------\n",
            "Pendientes: [17894.85959736  2154.38320416 30165.21202997  9487.40151333\n",
            " 29804.98650909  -893.2285157   9402.14099679 -1159.78210016]\n",
            "Ordenada: 189218.19330110442\n",
            "\n",
            "========================================================\n",
            "TRAIN:\n",
            "RAIZ DEL ERROR CUADRÁTICO MEDIO:62998.94\n",
            "COEFICIENTE DE DETERMINACIÓN:0.57\n",
            "========================================================\n",
            "TEST:\n",
            "RAIZ DEL ERROR CUADRÁTICO MEDIO:64144.63\n",
            "COEFICIENTE DE DETERMINACIÓN:0.56\n",
            "========================================================\n"
          ],
          "name": "stdout"
        },
        {
          "output_type": "stream",
          "text": [
            "/usr/local/lib/python3.7/dist-packages/sklearn/linear_model/_coordinate_descent.py:476: ConvergenceWarning: Objective did not converge. You might want to increase the number of iterations. Duality gap: 4024660695267.1406, tolerance: 36821350743.59989\n",
            "  positive)\n"
          ],
          "name": "stderr"
        }
      ]
    },
    {
      "cell_type": "markdown",
      "metadata": {
        "id": "OCku4J7NxAVE"
      },
      "source": [
        "Seguimos obteniendo los mismos resultados que los modelos probados anteriormente. LinearRegression y Ridge"
      ]
    },
    {
      "cell_type": "markdown",
      "metadata": {
        "id": "mFz2qEAfzNuV"
      },
      "source": [
        "# **PARTE C - Interpretación de modelos**"
      ]
    },
    {
      "cell_type": "markdown",
      "metadata": {
        "id": "1lza_6puMyQe"
      },
      "source": [
        "*Luego de haber analizado los distintos modelos y habiendo optimizado los hiperparámetros se llega a la conclusión de que el modelo con el que mejor resultados obtuve fue el XGBoost. Si bien el modelo con mejor resultado tuvo un pequeño sobreajuste, mantuve el coeficiente de determinación cercano al 80% lo que, según las diversas pruebas hechas con distintos modelos, me indica que es un buen límite luego del preprocesamiento realizado.*"
      ]
    },
    {
      "cell_type": "markdown",
      "metadata": {
        "id": "xB6kl6deP-8k"
      },
      "source": [
        "*Dentro del preprocesamiento considero que haber aplicado alguna técnica de clustering podría haber reducido el error y mejorar los rendimientos de los modelos. En las variables para trabajar quizás podría haber considerado las columnas latitud o longitud (alguna sola dada la correlatividad entre las dos).*\n",
        "*Con respecto al resto del trabajo realizado en el preprocesamiento me siento conforme, se redujo el dataset en una proporción considerable para garantizar un trabajo cómodo y así poder realizar las comparaciones con los modelos entregados en el proyecto 1*"
      ]
    },
    {
      "cell_type": "markdown",
      "metadata": {
        "id": "VZSF6PC-ViBP"
      },
      "source": [
        "*Como error en el trabajo de preprocesamiento pienso que puede ser el haber inferido parte de la imputación de datos faltantes a estimaciones (como por ejemplo para completar los datos faltantes de bathrooms) y si hubiera utilizado otro método para llenar esos datos quizás el rendimiento hubiera sido mejor.*"
      ]
    },
    {
      "cell_type": "markdown",
      "metadata": {
        "id": "Cqv9ckJ4XyEZ"
      },
      "source": [
        "*En cuanto al modelo de XGBoost que fue el que mejor resultado me arrojó, quizás podría haberlo mejorado aún más buscando más hiperparámetros en la grilla pero eso me llevaba al límite con el rendimiento de la pc y el proceso de entrenamiento duraba excesivamente.*"
      ]
    }
  ]
}